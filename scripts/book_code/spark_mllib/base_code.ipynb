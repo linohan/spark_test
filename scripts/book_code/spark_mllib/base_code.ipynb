{
 "cells": [
  {
   "cell_type": "code",
   "execution_count": 3,
   "metadata": {},
   "outputs": [],
   "source": [
    "from pyspark import SparkConf, SparkContext\n",
    "from pyspark.sql import SparkSession\n",
    "\n",
    "conf = SparkConf().setMaster(\"local\").setAppName(\"MyApp\")\n",
    "sc = SparkContext(conf=conf)\n",
    "spark = SparkSession.builder.config(conf=SparkConf()).getOrCreate()"
   ]
  },
  {
   "cell_type": "markdown",
   "metadata": {
    "heading_collapsed": true
   },
   "source": [
    "## Data type"
   ]
  },
  {
   "cell_type": "markdown",
   "metadata": {
    "hidden": true
   },
   "source": [
    "### Local Vector"
   ]
  },
  {
   "cell_type": "code",
   "execution_count": 2,
   "metadata": {
    "hidden": true
   },
   "outputs": [],
   "source": [
    "import numpy as np\n",
    "from pyspark.mllib.linalg import Vectors\n",
    "\n",
    "# Use a NumPy array as a dense vector.(recommend)\n",
    "dv1 = np.array([1.0, 0.0, 3.0])\n",
    "# Use a Python list as a dense vector.\n",
    "dv2 = [1.0, 0.0, 3.0]\n",
    "\n",
    "dv3 = Vectors.dense(1.0, 0.0, 3.0)\n",
    "\n",
    "sv1 = Vectors.sparse(3, [(0,2), (1.0, 3.0)])\n",
    "\n",
    "sv2 = Vectors.sparse(3, {0:1.0, 2:3.0})\n",
    "\n",
    "sv3 = Vectors.sparse(3, [0,2], [1.0, 3.0])"
   ]
  },
  {
   "cell_type": "markdown",
   "metadata": {
    "hidden": true
   },
   "source": [
    "### Labeled Point"
   ]
  },
  {
   "cell_type": "code",
   "execution_count": 3,
   "metadata": {
    "hidden": true
   },
   "outputs": [],
   "source": [
    "from pyspark.mllib.regression import LabeledPoint\n",
    "\n",
    "pos = LabeledPoint(1.0, Vectors.dense(1.0, 0.0, 3.0))\n",
    "\n",
    "neg = LabeledPoint(0.0, Vectors.sparse(3, [0,2], [1.0, 3.0]))"
   ]
  },
  {
   "cell_type": "markdown",
   "metadata": {
    "hidden": true
   },
   "source": [
    "### Local Matrix"
   ]
  },
  {
   "cell_type": "code",
   "execution_count": 4,
   "metadata": {
    "hidden": true
   },
   "outputs": [],
   "source": [
    "from pyspark.ml.linalg import Matrices\n",
    "# [[1.0, 2.0], [3.0, 4.0], [5.0, 6.0]]\n",
    "# dense matrix,注意构造的方式是列优先的\n",
    "dense_matrix = Matrices.dense(3, 2, [1.0, 3.0, 5.0, 2.0, 4.0, 6.0])\n",
    "\n",
    "# [[9.0, 0.0], [0.0, 8.0], [0.0, 6.0]]\n",
    "# 参数依次是:行数，列数，列的第一个非0行+ \",n\"，非0行标，非0数据\n",
    "sparse_matrix = Matrices.sparse(3, 2, [0, 1, 3], [0, 2, 1], [9.0, 6.0, 8.0])"
   ]
  },
  {
   "cell_type": "markdown",
   "metadata": {
    "heading_collapsed": true
   },
   "source": [
    "## 特征提取"
   ]
  },
  {
   "cell_type": "markdown",
   "metadata": {
    "hidden": true
   },
   "source": [
    "### TF-IDF"
   ]
  },
  {
   "cell_type": "code",
   "execution_count": 5,
   "metadata": {
    "hidden": true
   },
   "outputs": [],
   "source": [
    "from pyspark.ml.feature import HashingTF, IDF, Tokenizer"
   ]
  },
  {
   "cell_type": "code",
   "execution_count": 6,
   "metadata": {
    "hidden": true
   },
   "outputs": [],
   "source": [
    "# 生成测试文本\n",
    "sentenceData = spark.createDataFrame([(0, \"I heard about Spark and I love Spark\"), \n",
    "                                      (0, \"I wish Java could use case classes\"),\n",
    "                                      (1, \"Logistic regression models are neat\")]).toDF('label', 'sentence')"
   ]
  },
  {
   "cell_type": "code",
   "execution_count": 7,
   "metadata": {
    "hidden": true
   },
   "outputs": [
    {
     "name": "stdout",
     "output_type": "stream",
     "text": [
      "+-----+--------------------+--------------------+\n",
      "|label|            sentence|               words|\n",
      "+-----+--------------------+--------------------+\n",
      "|    0|I heard about Spa...|[i, heard, about,...|\n",
      "|    0|I wish Java could...|[i, wish, java, c...|\n",
      "|    1|Logistic regressi...|[logistic, regres...|\n",
      "+-----+--------------------+--------------------+\n",
      "\n"
     ]
    }
   ],
   "source": [
    "# 使用Tokenizer把句子分解成单词\n",
    "tokenizer = Tokenizer(inputCol='sentence', outputCol='words')\n",
    "wordsData = tokenizer.transform(sentenceData)\n",
    "wordsData.show()"
   ]
  },
  {
   "cell_type": "code",
   "execution_count": 8,
   "metadata": {
    "hidden": true
   },
   "outputs": [
    {
     "name": "stdout",
     "output_type": "stream",
     "text": [
      "+---------------------------------------------+---------------------------------------------------------------------+\n",
      "|words                                        |rawFeatures                                                          |\n",
      "+---------------------------------------------+---------------------------------------------------------------------+\n",
      "|[i, heard, about, spark, and, i, love, spark]|(2000,[240,333,1105,1329,1357,1777],[1.0,1.0,2.0,2.0,1.0,1.0])       |\n",
      "|[i, wish, java, could, use, case, classes]   |(2000,[213,342,489,495,1329,1809,1967],[1.0,1.0,1.0,1.0,1.0,1.0,1.0])|\n",
      "|[logistic, regression, models, are, neat]    |(2000,[286,695,1138,1193,1604],[1.0,1.0,1.0,1.0,1.0])                |\n",
      "+---------------------------------------------+---------------------------------------------------------------------+\n",
      "\n"
     ]
    }
   ],
   "source": [
    "# 使用HashingTF把单词哈希成特征向量,设置哈希的桶数为2000(这里等于是可容纳的单词数)\n",
    "hashingTF = HashingTF(inputCol='words', outputCol='rawFeatures', numFeatures=2000)\n",
    "featurizedData = hashingTF.transform(wordsData)\n",
    "featurizedData.select(\"words\",\"rawFeatures\").show(truncate=False)"
   ]
  },
  {
   "cell_type": "code",
   "execution_count": 9,
   "metadata": {
    "hidden": true
   },
   "outputs": [],
   "source": [
    "# idf训练\n",
    "idf = IDF(inputCol='rawFeatures', outputCol='features')\n",
    "idfModel = idf.fit(featurizedData)"
   ]
  },
  {
   "cell_type": "code",
   "execution_count": 10,
   "metadata": {
    "hidden": true
   },
   "outputs": [
    {
     "name": "stdout",
     "output_type": "stream",
     "text": [
      "+-------------------------------------------------------------------------------------------------------------------------------------------------------------------------------+-----+\n",
      "|features                                                                                                                                                                       |label|\n",
      "+-------------------------------------------------------------------------------------------------------------------------------------------------------------------------------+-----+\n",
      "|(2000,[240,333,1105,1329,1357,1777],[0.6931471805599453,0.6931471805599453,1.3862943611198906,0.5753641449035617,0.6931471805599453,0.6931471805599453])                       |0    |\n",
      "|(2000,[213,342,489,495,1329,1809,1967],[0.6931471805599453,0.6931471805599453,0.6931471805599453,0.6931471805599453,0.28768207245178085,0.6931471805599453,0.6931471805599453])|0    |\n",
      "|(2000,[286,695,1138,1193,1604],[0.6931471805599453,0.6931471805599453,0.6931471805599453,0.6931471805599453,0.6931471805599453])                                               |1    |\n",
      "+-------------------------------------------------------------------------------------------------------------------------------------------------------------------------------+-----+\n",
      "\n"
     ]
    }
   ],
   "source": [
    "# 使用IDFModel的transform方法获取TF-ITF值\n",
    "rescaledData = idfModel.transform(featurizedData)\n",
    "rescaledData.select('features', 'label').show(truncate=False)"
   ]
  },
  {
   "cell_type": "markdown",
   "metadata": {
    "heading_collapsed": true
   },
   "source": [
    "## 特征转换"
   ]
  },
  {
   "cell_type": "markdown",
   "metadata": {
    "hidden": true
   },
   "source": [
    "### StringIndexer"
   ]
  },
  {
   "cell_type": "code",
   "execution_count": 11,
   "metadata": {
    "hidden": true
   },
   "outputs": [],
   "source": [
    "from pyspark.ml.feature import StringIndexer"
   ]
  },
  {
   "cell_type": "code",
   "execution_count": 12,
   "metadata": {
    "hidden": true
   },
   "outputs": [],
   "source": [
    "# 生成测试数据\n",
    "df = spark.createDataFrame([(0, \"a\"), (1, \"b\"), (2, \"c\"), (3, \"a\"), (4, \"a\"), (5, \"c\")], [\"id\", \"category\"])"
   ]
  },
  {
   "cell_type": "code",
   "execution_count": 13,
   "metadata": {
    "hidden": true
   },
   "outputs": [],
   "source": [
    "# string2index　特征编号是按照特征出现的频率高低来排序的\n",
    "indexer = StringIndexer(inputCol='category', outputCol='categoryIndex')\n",
    "model = indexer.fit(df)"
   ]
  },
  {
   "cell_type": "code",
   "execution_count": 14,
   "metadata": {
    "hidden": true
   },
   "outputs": [
    {
     "name": "stdout",
     "output_type": "stream",
     "text": [
      "+---+--------+-------------+\n",
      "| id|category|categoryIndex|\n",
      "+---+--------+-------------+\n",
      "|  0|       a|          0.0|\n",
      "|  1|       b|          2.0|\n",
      "|  2|       c|          1.0|\n",
      "|  3|       a|          0.0|\n",
      "|  4|       a|          0.0|\n",
      "|  5|       c|          1.0|\n",
      "+---+--------+-------------+\n",
      "\n"
     ]
    }
   ],
   "source": [
    "# transform\n",
    "indexed = model.transform(df)\n",
    "indexed.show()"
   ]
  },
  {
   "cell_type": "markdown",
   "metadata": {
    "hidden": true
   },
   "source": [
    "### IndexToString"
   ]
  },
  {
   "cell_type": "code",
   "execution_count": 15,
   "metadata": {
    "hidden": true
   },
   "outputs": [],
   "source": [
    "from pyspark.ml.feature import IndexToString, StringIndexer"
   ]
  },
  {
   "cell_type": "code",
   "execution_count": 16,
   "metadata": {
    "hidden": true
   },
   "outputs": [
    {
     "name": "stdout",
     "output_type": "stream",
     "text": [
      "+---+----------------+\n",
      "| id|originalCategory|\n",
      "+---+----------------+\n",
      "|  0|               a|\n",
      "|  1|               b|\n",
      "|  2|               c|\n",
      "|  3|               a|\n",
      "|  4|               a|\n",
      "|  5|               c|\n",
      "+---+----------------+\n",
      "\n"
     ]
    }
   ],
   "source": [
    "toString = IndexToString(inputCol='categoryIndex', outputCol='originalCategory')\n",
    "indexString = toString.transform(indexed)\n",
    "indexString.select('id', 'originalCategory').show()"
   ]
  },
  {
   "cell_type": "markdown",
   "metadata": {
    "hidden": true
   },
   "source": [
    "### VectorIndexer"
   ]
  },
  {
   "cell_type": "code",
   "execution_count": 17,
   "metadata": {
    "hidden": true
   },
   "outputs": [],
   "source": [
    "from pyspark.ml.feature import VectorIndexer\n",
    "from pyspark.ml.linalg import Vectors"
   ]
  },
  {
   "cell_type": "code",
   "execution_count": 18,
   "metadata": {
    "hidden": true
   },
   "outputs": [],
   "source": [
    "# 生成测试数据,注意df必须是key-value(tuple)类型\n",
    "df = spark.createDataFrame([(Vectors.dense(-1.0, 1.0, 1.0),),\\\n",
    "                            (Vectors.dense(-1.0, 3.0, 1.0),),\\\n",
    "                            (Vectors.dense(0.0, 5.0, 1.0),)], ['features'])"
   ]
  },
  {
   "cell_type": "code",
   "execution_count": 19,
   "metadata": {
    "hidden": true
   },
   "outputs": [],
   "source": [
    "# 这里的maxCategories是指的种类小于2的特征才被视为类别型特征,否则被视作连续型特征\n",
    "indexer = VectorIndexer(inputCol='features', outputCol='indexed', maxCategories=2)"
   ]
  },
  {
   "cell_type": "code",
   "execution_count": 20,
   "metadata": {
    "hidden": true
   },
   "outputs": [],
   "source": [
    "indexerModel = indexer.fit(df)"
   ]
  },
  {
   "cell_type": "code",
   "execution_count": 21,
   "metadata": {
    "hidden": true
   },
   "outputs": [
    {
     "name": "stdout",
     "output_type": "stream",
     "text": [
      "choose 2, features:KeysView({0: {0.0: 0, -1.0: 1}, 2: {1.0: 0}})\n"
     ]
    }
   ],
   "source": [
    "categoricalFeatures = indexerModel.categoryMaps.keys()\n",
    "print('choose '+str(len(categoricalFeatures))+\", features:\"+str(categoricalFeatures))"
   ]
  },
  {
   "cell_type": "code",
   "execution_count": 22,
   "metadata": {
    "hidden": true
   },
   "outputs": [
    {
     "name": "stdout",
     "output_type": "stream",
     "text": [
      "+--------------+-------------+\n",
      "|      features|      indexed|\n",
      "+--------------+-------------+\n",
      "|[-1.0,1.0,1.0]|[1.0,1.0,0.0]|\n",
      "|[-1.0,3.0,1.0]|[1.0,3.0,0.0]|\n",
      "| [0.0,5.0,1.0]|[0.0,5.0,0.0]|\n",
      "+--------------+-------------+\n",
      "\n"
     ]
    }
   ],
   "source": [
    "indexed = indexerModel.transform(df)\n",
    "indexed.show()"
   ]
  },
  {
   "cell_type": "markdown",
   "metadata": {
    "heading_collapsed": true
   },
   "source": [
    "## 特征选择"
   ]
  },
  {
   "cell_type": "code",
   "execution_count": 23,
   "metadata": {
    "hidden": true
   },
   "outputs": [],
   "source": [
    "# 一共有VectorSlicer, RFormula, ChiSqSelector三种特征选择方法,这里使用ChiSqSelector\n",
    "from pyspark.ml.feature import ChiSqSelector, ChiSqSelectorModel\n",
    "from pyspark.ml.linalg import Vectors"
   ]
  },
  {
   "cell_type": "code",
   "execution_count": 24,
   "metadata": {
    "hidden": true
   },
   "outputs": [
    {
     "name": "stdout",
     "output_type": "stream",
     "text": [
      "+---+------------------+-----+\n",
      "| id|          features|label|\n",
      "+---+------------------+-----+\n",
      "|  1|[0.0,0.0,18.0,1.0]|    1|\n",
      "|  2|[0.0,1.0,12.0,0.0]|    0|\n",
      "|  3|[1.0,0.0,15.0,0.1]|    0|\n",
      "+---+------------------+-----+\n",
      "\n"
     ]
    }
   ],
   "source": [
    "# 生成测试数据\n",
    "df = spark.createDataFrame([\n",
    "    (1, Vectors.dense(0.0, 0.0, 18.0, 1.0), 1),\n",
    "    (2, Vectors.dense(0.0, 1.0, 12.0, 0.0), 0),\n",
    "    (3, Vectors.dense(1.0, 0.0, 15.0, 0.1), 0)\n",
    "], ['id', 'features', 'label'])\n",
    "df.show()"
   ]
  },
  {
   "cell_type": "code",
   "execution_count": 25,
   "metadata": {
    "hidden": true
   },
   "outputs": [],
   "source": [
    "# 特征选择,通过numTopFeatures方法设置选择与标签关联性最强的n个特征\n",
    "selector = ChiSqSelector(\n",
    "    numTopFeatures= 1,\n",
    "    featuresCol= 'features',\n",
    "    labelCol= 'label',\n",
    "    outputCol= 'selected-feature'\n",
    ")"
   ]
  },
  {
   "cell_type": "code",
   "execution_count": 26,
   "metadata": {
    "hidden": true
   },
   "outputs": [
    {
     "name": "stdout",
     "output_type": "stream",
     "text": [
      "+---+------------------+-----+----------------+\n",
      "| id|          features|label|selected-feature|\n",
      "+---+------------------+-----+----------------+\n",
      "|  1|[0.0,0.0,18.0,1.0]|    1|          [18.0]|\n",
      "|  2|[0.0,1.0,12.0,0.0]|    0|          [12.0]|\n",
      "|  3|[1.0,0.0,15.0,0.1]|    0|          [15.0]|\n",
      "+---+------------------+-----+----------------+\n",
      "\n"
     ]
    }
   ],
   "source": [
    "selector_model = selector.fit(df)\n",
    "result = selector_model.transform(df)\n",
    "result.show()"
   ]
  },
  {
   "cell_type": "markdown",
   "metadata": {
    "heading_collapsed": true
   },
   "source": [
    "## 分类算法"
   ]
  },
  {
   "cell_type": "markdown",
   "metadata": {
    "heading_collapsed": true,
    "hidden": true
   },
   "source": [
    "### 逻辑回归算法"
   ]
  },
  {
   "cell_type": "code",
   "execution_count": 27,
   "metadata": {
    "hidden": true
   },
   "outputs": [],
   "source": [
    "from pyspark.ml.linalg import Vectors\n",
    "from pyspark.sql import Row, functions\n",
    "from pyspark.ml.evaluation import MulticlassClassificationEvaluator\n",
    "from pyspark.ml import Pipeline\n",
    "from pyspark.ml.feature import IndexToString, StringIndexer, VectorIndexer, HashingTF, Tokenizer\n",
    "from pyspark.ml.classification import LogisticRegression, LogisticRegressionModel, BinaryLogisticRegressionSummary"
   ]
  },
  {
   "cell_type": "code",
   "execution_count": 28,
   "metadata": {
    "hidden": true
   },
   "outputs": [
    {
     "name": "stdout",
     "output_type": "stream",
     "text": [
      "+-----------------+-----------+\n",
      "|         features|      label|\n",
      "+-----------------+-----------+\n",
      "|[5.1,3.5,1.4,0.2]|Iris-setosa|\n",
      "|[4.9,3.0,1.4,0.2]|Iris-setosa|\n",
      "|[4.7,3.2,1.3,0.2]|Iris-setosa|\n",
      "|[4.6,3.1,1.5,0.2]|Iris-setosa|\n",
      "|[5.0,3.6,1.4,0.2]|Iris-setosa|\n",
      "|[5.4,3.9,1.7,0.4]|Iris-setosa|\n",
      "|[4.6,3.4,1.4,0.3]|Iris-setosa|\n",
      "|[5.0,3.4,1.5,0.2]|Iris-setosa|\n",
      "|[4.4,2.9,1.4,0.2]|Iris-setosa|\n",
      "|[4.9,3.1,1.5,0.1]|Iris-setosa|\n",
      "|[5.4,3.7,1.5,0.2]|Iris-setosa|\n",
      "|[4.8,3.4,1.6,0.2]|Iris-setosa|\n",
      "|[4.8,3.0,1.4,0.1]|Iris-setosa|\n",
      "|[4.3,3.0,1.1,0.1]|Iris-setosa|\n",
      "|[5.8,4.0,1.2,0.2]|Iris-setosa|\n",
      "|[5.7,4.4,1.5,0.4]|Iris-setosa|\n",
      "|[5.4,3.9,1.3,0.4]|Iris-setosa|\n",
      "|[5.1,3.5,1.4,0.3]|Iris-setosa|\n",
      "|[5.7,3.8,1.7,0.3]|Iris-setosa|\n",
      "|[5.1,3.8,1.5,0.3]|Iris-setosa|\n",
      "+-----------------+-----------+\n",
      "only showing top 20 rows\n",
      "\n"
     ]
    }
   ],
   "source": [
    "# 生成训练数据 Row(**_dict)--> Row(key1=value1, key2=value2)\n",
    "def f(x):\n",
    "    rel = {}\n",
    "    rel['features'] = Vectors.dense(float(x[0]), float(x[1]), float(x[2]), float(x[3]))\n",
    "    rel['label'] = str(x[4])\n",
    "    return rel\n",
    "\n",
    "data = spark.sparkContext.textFile('./iris.txt').\\\n",
    "    map(lambda line: line.split(',')).\\\n",
    "    map(lambda p: Row(**f(p))).\\\n",
    "    toDF()\n",
    "data.show()"
   ]
  },
  {
   "cell_type": "code",
   "execution_count": 30,
   "metadata": {
    "hidden": true
   },
   "outputs": [],
   "source": [
    "# 对标签和特征增加索引\n",
    "labelIndexer = StringIndexer().\\\n",
    "    setInputCol('label').\\\n",
    "    setOutputCol('indexedLabel').\\\n",
    "    fit(data)\n",
    "\n",
    "featureIndexer = VectorIndexer().\\\n",
    "    setInputCol('features').\\\n",
    "    setOutputCol('indexedFeatures').\\\n",
    "    fit(data)"
   ]
  },
  {
   "cell_type": "code",
   "execution_count": 32,
   "metadata": {
    "hidden": true
   },
   "outputs": [
    {
     "name": "stdout",
     "output_type": "stream",
     "text": [
      "params:\n",
      " aggregationDepth: suggested depth for treeAggregate (>= 2). (default: 2)\n",
      "elasticNetParam: the ElasticNet mixing parameter, in range [0, 1]. For alpha = 0, the penalty is an L2 penalty. For alpha = 1, it is an L1 penalty. (default: 0.0, current: 0.8)\n",
      "family: The name of family which is a description of the label distribution to be used in the model. Supported options: auto, binomial, multinomial (default: auto)\n",
      "featuresCol: features column name. (default: features, current: indexedFeatures)\n",
      "fitIntercept: whether to fit an intercept term. (default: True)\n",
      "labelCol: label column name. (default: label, current: indexedLabel)\n",
      "lowerBoundsOnCoefficients: The lower bounds on coefficients if fitting under bound constrained optimization. The bound matrix must be compatible with the shape (1, number of features) for binomial regression, or (number of classes, number of features) for multinomial regression. (undefined)\n",
      "lowerBoundsOnIntercepts: The lower bounds on intercepts if fitting under bound constrained optimization. The bounds vector size must beequal with 1 for binomial regression, or the number oflasses for multinomial regression. (undefined)\n",
      "maxIter: max number of iterations (>= 0). (default: 100, current: 100)\n",
      "predictionCol: prediction column name. (default: prediction)\n",
      "probabilityCol: Column name for predicted class conditional probabilities. Note: Not all models output well-calibrated probability estimates! These probabilities should be treated as confidences, not precise probabilities. (default: probability)\n",
      "rawPredictionCol: raw prediction (a.k.a. confidence) column name. (default: rawPrediction)\n",
      "regParam: regularization parameter (>= 0). (default: 0.0, current: 0.3)\n",
      "standardization: whether to standardize the training features before fitting the model. (default: True)\n",
      "threshold: Threshold in binary classification prediction, in range [0, 1]. If threshold and thresholds are both set, they must match.e.g. if threshold is p, then thresholds must be equal to [1-p, p]. (default: 0.5)\n",
      "thresholds: Thresholds in multi-class classification to adjust the probability of predicting each class. Array must have length equal to the number of classes, with values > 0, excepting that at most one value may be 0. The class with largest value p/t is predicted, where p is the original probability of that class and t is the class's threshold. (undefined)\n",
      "tol: the convergence tolerance for iterative algorithms (>= 0). (default: 1e-06)\n",
      "upperBoundsOnCoefficients: The upper bounds on coefficients if fitting under bound constrained optimization. The bound matrix must be compatible with the shape (1, number of features) for binomial regression, or (number of classes, number of features) for multinomial regression. (undefined)\n",
      "upperBoundsOnIntercepts: The upper bounds on intercepts if fitting under bound constrained optimization. The bound vector size must be equal with 1 for binomial regression, or the number of classes for multinomial regression. (undefined)\n",
      "weightCol: weight column name. If this is not set or empty, we treat all instance weights as 1.0. (undefined)\n"
     ]
    }
   ],
   "source": [
    "# 设置LogisticRegression\n",
    "lr = LogisticRegression().\\\n",
    "    setLabelCol('indexedLabel').\\\n",
    "    setFeaturesCol('indexedFeatures').\\\n",
    "    setMaxIter(100).\\\n",
    "    setRegParam(0.3).\\\n",
    "    setElasticNetParam(0.8)\n",
    "\n",
    "print('params:\\n', lr.explainParams()) # 打印参数"
   ]
  },
  {
   "cell_type": "code",
   "execution_count": 33,
   "metadata": {
    "hidden": true
   },
   "outputs": [],
   "source": [
    "# 设置IndexToString\n",
    "labelConverter = IndexToString().\\\n",
    "    setInputCol('prediction').\\\n",
    "    setOutputCol('predictedLabel').\\\n",
    "    setLabels(labelIndexer.labels)"
   ]
  },
  {
   "cell_type": "code",
   "execution_count": 35,
   "metadata": {
    "hidden": true
   },
   "outputs": [],
   "source": [
    "# 构建pipeline\n",
    "lrPipeline = Pipeline().\\\n",
    "    setStages([labelIndexer, featureIndexer, lr, labelConverter])"
   ]
  },
  {
   "cell_type": "code",
   "execution_count": 41,
   "metadata": {
    "hidden": true
   },
   "outputs": [],
   "source": [
    "# 划分训练集和测试集进行模型训练\n",
    "trainingData, testData = data.randomSplit([0.7, 0.3])\n",
    "lrPipelineModel = lrPipeline.fit(trainingData)\n",
    "lrPredictions = lrPipelineModel.transform(testData)"
   ]
  },
  {
   "cell_type": "code",
   "execution_count": 42,
   "metadata": {
    "hidden": true
   },
   "outputs": [
    {
     "name": "stdout",
     "output_type": "stream",
     "text": [
      "label:  Iris-setosa,\n",
      "features:  [4.4,2.9,1.4,0.2],\n",
      "prob:  [0.517512490453518,0.2797617539385136,0.20272575560796846],\n",
      "predict_label: Iris-setosa\n",
      "label:  Iris-setosa,\n",
      "features:  [4.4,3.2,1.3,0.2],\n",
      "prob:  [0.5239524330049404,0.2760276684175376,0.20001989857752178],\n",
      "predict_label: Iris-setosa\n",
      "label:  Iris-setosa,\n",
      "features:  [4.6,3.2,1.4,0.2],\n",
      "prob:  [0.517512490453518,0.2797617539385136,0.20272575560796846],\n",
      "predict_label: Iris-setosa\n",
      "label:  Iris-setosa,\n",
      "features:  [4.7,3.2,1.6,0.2],\n",
      "prob:  [0.5046172775706185,0.2872388125196186,0.20814390990976306],\n",
      "predict_label: Iris-setosa\n",
      "label:  Iris-setosa,\n",
      "features:  [4.8,3.0,1.4,0.1],\n",
      "prob:  [0.5268542955807591,0.27837294823879616,0.19477275618044484],\n",
      "predict_label: Iris-setosa\n",
      "label:  Iris-setosa,\n",
      "features:  [4.8,3.4,1.9,0.2],\n",
      "prob:  [0.4852683017985809,0.2984579700973703,0.21627372810404868],\n",
      "predict_label: Iris-setosa\n",
      "label:  Iris-setosa,\n",
      "features:  [4.9,3.0,1.4,0.2],\n",
      "prob:  [0.517512490453518,0.2797617539385136,0.20272575560796846],\n",
      "predict_label: Iris-setosa\n",
      "label:  Iris-versicolor,\n",
      "features:  [5.0,2.0,3.5,1.0],\n",
      "prob:  [0.31383869908964535,0.3502384105841017,0.33592289032625305],\n",
      "predict_label: Iris-versicolor\n",
      "label:  Iris-versicolor,\n",
      "features:  [5.0,2.3,3.3,1.0],\n",
      "prob:  [0.3250576817988804,0.3445118872910511,0.33043043091006846],\n",
      "predict_label: Iris-versicolor\n",
      "label:  Iris-setosa,\n",
      "features:  [5.0,3.0,1.6,0.2],\n",
      "prob:  [0.5046172775706185,0.2872388125196186,0.20814390990976306],\n",
      "predict_label: Iris-setosa\n",
      "label:  Iris-setosa,\n",
      "features:  [5.0,3.3,1.4,0.2],\n",
      "prob:  [0.517512490453518,0.2797617539385136,0.20272575560796846],\n",
      "predict_label: Iris-setosa\n",
      "label:  Iris-setosa,\n",
      "features:  [5.0,3.4,1.5,0.2],\n",
      "prob:  [0.5110667251610407,0.28349921567176023,0.20543405916719915],\n",
      "predict_label: Iris-setosa\n",
      "label:  Iris-setosa,\n",
      "features:  [5.0,3.5,1.3,0.3],\n",
      "prob:  [0.5145313878447639,0.2773343290504268,0.20813428310480922],\n",
      "predict_label: Iris-setosa\n",
      "label:  Iris-setosa,\n",
      "features:  [5.0,3.5,1.6,0.6],\n",
      "prob:  [0.4664740678495546,0.2909594857480172,0.24256644640242817],\n",
      "predict_label: Iris-setosa\n",
      "label:  Iris-versicolor,\n",
      "features:  [5.1,2.5,3.0,1.1],\n",
      "prob:  [0.3332798270914679,0.3344749184785859,0.33224525442994635],\n",
      "predict_label: Iris-versicolor\n",
      "label:  Iris-setosa,\n",
      "features:  [5.1,3.4,1.5,0.2],\n",
      "prob:  [0.5110667251610407,0.28349921567176023,0.20543405916719915],\n",
      "predict_label: Iris-setosa\n",
      "label:  Iris-setosa,\n",
      "features:  [5.1,3.5,1.4,0.2],\n",
      "prob:  [0.517512490453518,0.2797617539385136,0.20272575560796846],\n",
      "predict_label: Iris-setosa\n",
      "label:  Iris-setosa,\n",
      "features:  [5.1,3.8,1.5,0.3],\n",
      "prob:  [0.5016332273507667,0.2847026791291414,0.213664093520092],\n",
      "predict_label: Iris-setosa\n",
      "label:  Iris-setosa,\n",
      "features:  [5.1,3.8,1.9,0.4],\n",
      "prob:  [0.46636910070790527,0.30025692320039343,0.23337397609170132],\n",
      "predict_label: Iris-setosa\n",
      "label:  Iris-setosa,\n",
      "features:  [5.2,3.4,1.4,0.2],\n",
      "prob:  [0.517512490453518,0.2797617539385136,0.20272575560796846],\n",
      "predict_label: Iris-setosa\n",
      "label:  Iris-setosa,\n",
      "features:  [5.4,3.4,1.5,0.4],\n",
      "prob:  [0.4921233932728403,0.2857658121065484,0.22211079462061128],\n",
      "predict_label: Iris-setosa\n",
      "label:  Iris-setosa,\n",
      "features:  [5.4,3.7,1.5,0.2],\n",
      "prob:  [0.5110667251610407,0.28349921567176023,0.20543405916719915],\n",
      "predict_label: Iris-setosa\n",
      "label:  Iris-setosa,\n",
      "features:  [5.4,3.9,1.7,0.4],\n",
      "prob:  [0.47923244842531987,0.2930191316616887,0.22774841991299147],\n",
      "predict_label: Iris-setosa\n",
      "label:  Iris-versicolor,\n",
      "features:  [5.6,2.5,3.9,1.1],\n",
      "prob:  [0.28381245165575464,0.3592913212792248,0.35689622706502055],\n",
      "predict_label: Iris-versicolor\n",
      "label:  Iris-virginica,\n",
      "features:  [5.6,2.8,4.9,2.0],\n",
      "prob:  [0.1737853045617406,0.349844340623002,0.4763703548152574],\n",
      "predict_label: Iris-virginica\n",
      "label:  Iris-versicolor,\n",
      "features:  [5.6,3.0,4.1,1.3],\n",
      "prob:  [0.25759389398269883,0.35943995457223044,0.38296615144507085],\n",
      "predict_label: Iris-virginica\n",
      "label:  Iris-versicolor,\n",
      "features:  [5.6,3.0,4.5,1.5],\n",
      "prob:  [0.2237003104815697,0.3622816846620328,0.4140180048563974],\n",
      "predict_label: Iris-virginica\n",
      "label:  Iris-versicolor,\n",
      "features:  [5.7,2.6,3.5,1.0],\n",
      "prob:  [0.31383869908964535,0.3502384105841017,0.33592289032625305],\n",
      "predict_label: Iris-versicolor\n",
      "label:  Iris-versicolor,\n",
      "features:  [5.7,2.8,4.1,1.3],\n",
      "prob:  [0.25759389398269883,0.35943995457223044,0.38296615144507085],\n",
      "predict_label: Iris-virginica\n",
      "label:  Iris-setosa,\n",
      "features:  [5.7,4.4,1.5,0.4],\n",
      "prob:  [0.4921233932728403,0.2857658121065484,0.22211079462061128],\n",
      "predict_label: Iris-setosa\n",
      "label:  Iris-versicolor,\n",
      "features:  [5.8,2.7,4.1,1.0],\n",
      "prob:  [0.28149447951136913,0.36674792232958947,0.3517575981590415],\n",
      "predict_label: Iris-versicolor\n",
      "label:  Iris-virginica,\n",
      "features:  [5.9,3.0,5.1,1.8],\n",
      "prob:  [0.17871172736468896,0.3618814754067879,0.459406797228523],\n",
      "predict_label: Iris-virginica\n",
      "label:  Iris-versicolor,\n",
      "features:  [5.9,3.2,4.8,1.8],\n",
      "prob:  [0.19035785012289655,0.35674988370271377,0.4528922661743896],\n",
      "predict_label: Iris-virginica\n",
      "label:  Iris-virginica,\n",
      "features:  [6.0,2.2,5.0,1.5],\n",
      "prob:  [0.20209464385179168,0.37236456555270775,0.42554079059550054],\n",
      "predict_label: Iris-virginica\n",
      "label:  Iris-versicolor,\n",
      "features:  [6.1,2.8,4.7,1.2],\n",
      "prob:  [0.23639468036294448,0.3763899208530873,0.38721539878396827],\n",
      "predict_label: Iris-virginica\n",
      "label:  Iris-versicolor,\n",
      "features:  [6.3,2.5,4.9,1.5],\n",
      "prob:  [0.20628768120612875,0.3704077688966091,0.4233045498972621],\n",
      "predict_label: Iris-virginica\n",
      "label:  Iris-virginica,\n",
      "features:  [6.3,3.3,6.0,2.5],\n",
      "prob:  [0.11284998762425182,0.3382926661262951,0.5488573462494529],\n",
      "predict_label: Iris-virginica\n",
      "label:  Iris-virginica,\n",
      "features:  [6.4,3.1,5.5,1.8],\n",
      "prob:  [0.1640608935801225,0.36833702277371444,0.46760208364616296],\n",
      "predict_label: Iris-virginica\n",
      "label:  Iris-versicolor,\n",
      "features:  [6.4,3.2,4.5,1.5],\n",
      "prob:  [0.2237003104815697,0.3622816846620328,0.4140180048563974],\n",
      "predict_label: Iris-virginica\n",
      "label:  Iris-virginica,\n",
      "features:  [6.5,3.0,5.2,2.0],\n",
      "prob:  [0.16294903243177097,0.3544327466378693,0.4826182209303597],\n",
      "predict_label: Iris-virginica\n",
      "label:  Iris-virginica,\n",
      "features:  [6.5,3.0,5.5,1.8],\n",
      "prob:  [0.1640608935801225,0.36833702277371444,0.46760208364616296],\n",
      "predict_label: Iris-virginica\n",
      "label:  Iris-virginica,\n",
      "features:  [6.5,3.0,5.8,2.2],\n",
      "prob:  [0.13261688067811506,0.3525196811211331,0.5148634382007519],\n",
      "predict_label: Iris-virginica\n",
      "label:  Iris-versicolor,\n",
      "features:  [6.7,3.0,5.0,1.7],\n",
      "prob:  [0.1889300389567366,0.3643984839310568,0.44667147711220667],\n",
      "predict_label: Iris-virginica\n",
      "label:  Iris-versicolor,\n",
      "features:  [6.7,3.1,4.4,1.4],\n",
      "prob:  [0.23558786990794964,0.3634084027031181,0.40100372738893225],\n",
      "predict_label: Iris-virginica\n",
      "label:  Iris-versicolor,\n",
      "features:  [6.9,3.1,4.9,1.5],\n",
      "prob:  [0.20628768120612875,0.3704077688966091,0.4233045498972621],\n",
      "predict_label: Iris-virginica\n",
      "label:  Iris-virginica,\n",
      "features:  [6.9,3.1,5.1,2.3],\n",
      "prob:  [0.14916042511013627,0.3386272648935927,0.512212309996271],\n",
      "predict_label: Iris-virginica\n",
      "label:  Iris-virginica,\n",
      "features:  [7.3,2.9,6.3,1.8],\n",
      "prob:  [0.13767290054218123,0.37996427494785406,0.48236282450996476],\n",
      "predict_label: Iris-virginica\n",
      "label:  Iris-virginica,\n",
      "features:  [7.6,3.0,6.6,2.1],\n",
      "prob:  [0.11497182872256657,0.3671968942423052,0.5178312770351282],\n",
      "predict_label: Iris-virginica\n",
      "label:  Iris-virginica,\n",
      "features:  [7.9,3.8,6.4,2.0],\n",
      "prob:  [0.12497907823492406,0.37051037593062264,0.5045105458344532],\n",
      "predict_label: Iris-virginica\n"
     ]
    }
   ],
   "source": [
    "# 输出预测结果\n",
    "preRe1 = lrPredictions.select(\n",
    "    'predictedLabel',\n",
    "    'label',\n",
    "    'features',\n",
    "    'probability').\\\n",
    "    collect()\n",
    "for item in preRe1:\n",
    "    print('label: ',str(item['label'])+',\\n'\\\n",
    "          'features: ', str(item['features'])+',\\n'\\\n",
    "          'prob: ', str(item['probability'])+',\\n'\\\n",
    "          'predict_label: '+ str(item['predictedLabel']))"
   ]
  },
  {
   "cell_type": "code",
   "execution_count": 43,
   "metadata": {
    "hidden": true
   },
   "outputs": [
    {
     "data": {
      "text/plain": [
       "0.7795481829095274"
      ]
     },
     "execution_count": 43,
     "metadata": {},
     "output_type": "execute_result"
    }
   ],
   "source": [
    "# 对模型进行评估\n",
    "evaluator = MulticlassClassificationEvaluator().\\\n",
    "    setLabelCol('indexedLabel').\\\n",
    "    setPredictionCol('prediction')\n",
    "\n",
    "lrAccuracy = evaluator.evaluate(lrPredictions)\n",
    "lrAccuracy"
   ]
  },
  {
   "cell_type": "code",
   "execution_count": 44,
   "metadata": {
    "hidden": true
   },
   "outputs": [
    {
     "name": "stdout",
     "output_type": "stream",
     "text": [
      "Coefficients:\n",
      "3 X 4 CSRMatrix\n",
      "(0,2) -0.258\n",
      "(0,3) -0.2287\n",
      "(1,3) 0.3504\n",
      "Intercept: [0.8121188673353097,-0.20997333175016653,-0.6021455355851429]\n",
      " numClasses: 3\n",
      " numFeatures: 4\n"
     ]
    }
   ],
   "source": [
    "# 通过model获取模型\n",
    "lrModel = lrPipelineModel.stages[2]\n",
    "\n",
    "print('Coefficients:\\n' + str(lrModel.coefficientMatrix)+\n",
    "     \"\\nIntercept: \" + str(lrModel.interceptVector)+\n",
    "     \"\\n numClasses: \" + str(lrModel.numClasses)+\n",
    "     \"\\n numFeatures: \" + str(lrModel.numFeatures))"
   ]
  },
  {
   "cell_type": "markdown",
   "metadata": {
    "heading_collapsed": true,
    "hidden": true
   },
   "source": [
    "### 决策树算法"
   ]
  },
  {
   "cell_type": "code",
   "execution_count": 45,
   "metadata": {
    "hidden": true
   },
   "outputs": [],
   "source": [
    "from pyspark.ml.classification import DecisionTreeClassificationModel\n",
    "from pyspark.ml.classification import DecisionTreeClassifier\n",
    "from pyspark.ml import Pipeline, PipelineModel\n",
    "from pyspark.ml.evaluation import MulticlassClassificationEvaluator\n",
    "from pyspark.ml.linalg import Vectors\n",
    "from pyspark.sql import Row\n",
    "from pyspark.ml.feature import IndexToString, StringIndexer, VectorIndexer"
   ]
  },
  {
   "cell_type": "code",
   "execution_count": 46,
   "metadata": {
    "hidden": true
   },
   "outputs": [
    {
     "name": "stdout",
     "output_type": "stream",
     "text": [
      "+-----------------+-----------+\n",
      "|         features|      label|\n",
      "+-----------------+-----------+\n",
      "|[5.1,3.5,1.4,0.2]|Iris-setosa|\n",
      "|[4.9,3.0,1.4,0.2]|Iris-setosa|\n",
      "|[4.7,3.2,1.3,0.2]|Iris-setosa|\n",
      "|[4.6,3.1,1.5,0.2]|Iris-setosa|\n",
      "|[5.0,3.6,1.4,0.2]|Iris-setosa|\n",
      "|[5.4,3.9,1.7,0.4]|Iris-setosa|\n",
      "|[4.6,3.4,1.4,0.3]|Iris-setosa|\n",
      "|[5.0,3.4,1.5,0.2]|Iris-setosa|\n",
      "|[4.4,2.9,1.4,0.2]|Iris-setosa|\n",
      "|[4.9,3.1,1.5,0.1]|Iris-setosa|\n",
      "|[5.4,3.7,1.5,0.2]|Iris-setosa|\n",
      "|[4.8,3.4,1.6,0.2]|Iris-setosa|\n",
      "|[4.8,3.0,1.4,0.1]|Iris-setosa|\n",
      "|[4.3,3.0,1.1,0.1]|Iris-setosa|\n",
      "|[5.8,4.0,1.2,0.2]|Iris-setosa|\n",
      "|[5.7,4.4,1.5,0.4]|Iris-setosa|\n",
      "|[5.4,3.9,1.3,0.4]|Iris-setosa|\n",
      "|[5.1,3.5,1.4,0.3]|Iris-setosa|\n",
      "|[5.7,3.8,1.7,0.3]|Iris-setosa|\n",
      "|[5.1,3.8,1.5,0.3]|Iris-setosa|\n",
      "+-----------------+-----------+\n",
      "only showing top 20 rows\n",
      "\n"
     ]
    }
   ],
   "source": [
    "# 生成训练数据 Row(**_dict)--> Row(key1=value1, key2=value2)\n",
    "def f(x):\n",
    "    rel = {}\n",
    "    rel['features'] = Vectors.dense(float(x[0]), float(x[1]), float(x[2]), float(x[3]))\n",
    "    rel['label'] = str(x[4])\n",
    "    return rel\n",
    "\n",
    "data = spark.sparkContext.textFile('./iris.txt').\\\n",
    "    map(lambda line: line.split(',')).\\\n",
    "    map(lambda p: Row(**f(p))).\\\n",
    "    toDF()\n",
    "data.show()"
   ]
  },
  {
   "cell_type": "code",
   "execution_count": 47,
   "metadata": {
    "hidden": true
   },
   "outputs": [],
   "source": [
    "# 对标签和特征增加索引\n",
    "labelIndexer = StringIndexer().\\\n",
    "    setInputCol('label').\\\n",
    "    setOutputCol('indexedLabel').\\\n",
    "    fit(data)\n",
    "\n",
    "featureIndexer = VectorIndexer().\\\n",
    "    setInputCol('features').\\\n",
    "    setOutputCol('indexedFeatures').\\\n",
    "    fit(data)"
   ]
  },
  {
   "cell_type": "code",
   "execution_count": 48,
   "metadata": {
    "hidden": true
   },
   "outputs": [],
   "source": [
    "# 设置IndexToString\n",
    "labelConverter = IndexToString().\\\n",
    "    setInputCol('prediction').\\\n",
    "    setOutputCol('predictedLabel').\\\n",
    "    setLabels(labelIndexer.labels)"
   ]
  },
  {
   "cell_type": "code",
   "execution_count": 49,
   "metadata": {
    "hidden": true
   },
   "outputs": [],
   "source": [
    "# 划分训练集和测试集\n",
    "trainingData, testData = data.randomSplit([0.7, 0.3])"
   ]
  },
  {
   "cell_type": "code",
   "execution_count": 50,
   "metadata": {
    "hidden": true
   },
   "outputs": [],
   "source": [
    "# 创建决策树模型\n",
    "dtClassifier = DecisionTreeClassifier().\\\n",
    "    setLabelCol('indexedLabel').\\\n",
    "    setFeaturesCol('indexedFeatures')"
   ]
  },
  {
   "cell_type": "code",
   "execution_count": 51,
   "metadata": {
    "hidden": true
   },
   "outputs": [
    {
     "name": "stdout",
     "output_type": "stream",
     "text": [
      "+---------------+---------------+-----------------+\n",
      "| predictedLabel|          label|         features|\n",
      "+---------------+---------------+-----------------+\n",
      "|    Iris-setosa|    Iris-setosa|[4.4,2.9,1.4,0.2]|\n",
      "|    Iris-setosa|    Iris-setosa|[4.5,2.3,1.3,0.3]|\n",
      "|    Iris-setosa|    Iris-setosa|[4.6,3.2,1.4,0.2]|\n",
      "|    Iris-setosa|    Iris-setosa|[4.8,3.0,1.4,0.3]|\n",
      "|    Iris-setosa|    Iris-setosa|[4.8,3.4,1.6,0.2]|\n",
      "|    Iris-setosa|    Iris-setosa|[4.8,3.4,1.9,0.2]|\n",
      "|    Iris-setosa|    Iris-setosa|[5.0,3.5,1.3,0.3]|\n",
      "|Iris-versicolor|Iris-versicolor|[5.1,2.5,3.0,1.1]|\n",
      "|    Iris-setosa|    Iris-setosa|[5.1,3.5,1.4,0.2]|\n",
      "|Iris-versicolor|Iris-versicolor|[5.4,3.0,4.5,1.5]|\n",
      "|    Iris-setosa|    Iris-setosa|[5.4,3.9,1.3,0.4]|\n",
      "|    Iris-setosa|    Iris-setosa|[5.4,3.9,1.7,0.4]|\n",
      "|Iris-versicolor|Iris-versicolor|[5.5,2.3,4.0,1.3]|\n",
      "|Iris-versicolor|Iris-versicolor|[5.5,2.4,3.7,1.0]|\n",
      "|    Iris-setosa|    Iris-setosa|[5.5,3.5,1.3,0.2]|\n",
      "|Iris-versicolor|Iris-versicolor|[5.6,2.5,3.9,1.1]|\n",
      "|Iris-versicolor|Iris-versicolor|[5.6,2.7,4.2,1.3]|\n",
      "| Iris-virginica| Iris-virginica|[5.6,2.8,4.9,2.0]|\n",
      "|    Iris-setosa|    Iris-setosa|[5.7,4.4,1.5,0.4]|\n",
      "|Iris-versicolor|Iris-versicolor|[5.8,2.6,4.0,1.2]|\n",
      "+---------------+---------------+-----------------+\n",
      "only showing top 20 rows\n",
      "\n"
     ]
    }
   ],
   "source": [
    "# 构建pipeline\n",
    "dtPipeline = Pipeline().\\\n",
    "    setStages([labelIndexer, featureIndexer, dtClassifier, labelConverter])\n",
    "\n",
    "dtPipelineModel = dtPipeline.fit(trainingData)\n",
    "dtPredictions = dtPipelineModel.transform(testData)\n",
    "\n",
    "dtPredictions.select('predictedLabel', 'label', 'features').show(20)"
   ]
  },
  {
   "cell_type": "code",
   "execution_count": 53,
   "metadata": {
    "hidden": true
   },
   "outputs": [
    {
     "data": {
      "text/plain": [
       "0.9762706429373097"
      ]
     },
     "execution_count": 53,
     "metadata": {},
     "output_type": "execute_result"
    }
   ],
   "source": [
    "evaluator = MulticlassClassificationEvaluator().\\\n",
    "    setLabelCol('indexedLabel').\\\n",
    "    setPredictionCol('prediction')\n",
    "\n",
    "dtAccuracy = evaluator.evaluate(dtPredictions)\n",
    "dtAccuracy"
   ]
  },
  {
   "cell_type": "code",
   "execution_count": 54,
   "metadata": {
    "hidden": true
   },
   "outputs": [
    {
     "name": "stdout",
     "output_type": "stream",
     "text": [
      "tree model:\n",
      "DecisionTreeClassificationModel (uid=DecisionTreeClassifier_7f2669283bfa) of depth 4 with 15 nodes\n",
      "  If (feature 2 <= 2.5999999999999996)\n",
      "   Predict: 0.0\n",
      "  Else (feature 2 > 2.5999999999999996)\n",
      "   If (feature 3 <= 1.75)\n",
      "    If (feature 2 <= 4.95)\n",
      "     If (feature 3 <= 1.65)\n",
      "      Predict: 1.0\n",
      "     Else (feature 3 > 1.65)\n",
      "      Predict: 2.0\n",
      "    Else (feature 2 > 4.95)\n",
      "     If (feature 3 <= 1.55)\n",
      "      Predict: 2.0\n",
      "     Else (feature 3 > 1.55)\n",
      "      Predict: 1.0\n",
      "   Else (feature 3 > 1.75)\n",
      "    If (feature 2 <= 4.85)\n",
      "     If (feature 0 <= 5.95)\n",
      "      Predict: 1.0\n",
      "     Else (feature 0 > 5.95)\n",
      "      Predict: 2.0\n",
      "    Else (feature 2 > 4.85)\n",
      "     Predict: 2.0\n",
      "\n"
     ]
    }
   ],
   "source": [
    "# 查看决策树模型结构\n",
    "treeModelClassifier = dtPipelineModel.stages[2]\n",
    "print('tree model:\\n'+\n",
    "     str(treeModelClassifier.toDebugString))"
   ]
  },
  {
   "cell_type": "markdown",
   "metadata": {
    "heading_collapsed": true,
    "hidden": true
   },
   "source": [
    "### KMeans聚类算法"
   ]
  },
  {
   "cell_type": "code",
   "execution_count": 55,
   "metadata": {
    "hidden": true
   },
   "outputs": [],
   "source": [
    "from pyspark.sql import Row\n",
    "from pyspark.ml.clustering import KMeans, KMeansModel\n",
    "from pyspark.ml.linalg import Vectors"
   ]
  },
  {
   "cell_type": "code",
   "execution_count": 56,
   "metadata": {
    "hidden": true
   },
   "outputs": [
    {
     "name": "stdout",
     "output_type": "stream",
     "text": [
      "+-----------------+-----------+\n",
      "|         features|      label|\n",
      "+-----------------+-----------+\n",
      "|[5.1,3.5,1.4,0.2]|Iris-setosa|\n",
      "|[4.9,3.0,1.4,0.2]|Iris-setosa|\n",
      "|[4.7,3.2,1.3,0.2]|Iris-setosa|\n",
      "|[4.6,3.1,1.5,0.2]|Iris-setosa|\n",
      "|[5.0,3.6,1.4,0.2]|Iris-setosa|\n",
      "|[5.4,3.9,1.7,0.4]|Iris-setosa|\n",
      "|[4.6,3.4,1.4,0.3]|Iris-setosa|\n",
      "|[5.0,3.4,1.5,0.2]|Iris-setosa|\n",
      "|[4.4,2.9,1.4,0.2]|Iris-setosa|\n",
      "|[4.9,3.1,1.5,0.1]|Iris-setosa|\n",
      "|[5.4,3.7,1.5,0.2]|Iris-setosa|\n",
      "|[4.8,3.4,1.6,0.2]|Iris-setosa|\n",
      "|[4.8,3.0,1.4,0.1]|Iris-setosa|\n",
      "|[4.3,3.0,1.1,0.1]|Iris-setosa|\n",
      "|[5.8,4.0,1.2,0.2]|Iris-setosa|\n",
      "|[5.7,4.4,1.5,0.4]|Iris-setosa|\n",
      "|[5.4,3.9,1.3,0.4]|Iris-setosa|\n",
      "|[5.1,3.5,1.4,0.3]|Iris-setosa|\n",
      "|[5.7,3.8,1.7,0.3]|Iris-setosa|\n",
      "|[5.1,3.8,1.5,0.3]|Iris-setosa|\n",
      "+-----------------+-----------+\n",
      "only showing top 20 rows\n",
      "\n"
     ]
    }
   ],
   "source": [
    "# 生成训练数据 Row(**_dict)--> Row(key1=value1, key2=value2)\n",
    "def f(x):\n",
    "    rel = {}\n",
    "    rel['features'] = Vectors.dense(float(x[0]), float(x[1]), float(x[2]), float(x[3]))\n",
    "    rel['label'] = str(x[4])\n",
    "    return rel\n",
    "\n",
    "data = spark.sparkContext.textFile('./iris.txt').\\\n",
    "    map(lambda line: line.split(',')).\\\n",
    "    map(lambda p: Row(**f(p))).\\\n",
    "    toDF()\n",
    "data.show()"
   ]
  },
  {
   "cell_type": "code",
   "execution_count": 57,
   "metadata": {
    "hidden": true
   },
   "outputs": [],
   "source": [
    "# 创建聚类模型并训练\n",
    "kmeansmodel = KMeans().\\\n",
    "    setK(3).\\\n",
    "    setFeaturesCol('features').\\\n",
    "    setPredictionCol('prediction').\\\n",
    "    fit(data)"
   ]
  },
  {
   "cell_type": "code",
   "execution_count": 58,
   "metadata": {
    "hidden": true
   },
   "outputs": [
    {
     "name": "stdout",
     "output_type": "stream",
     "text": [
      "[5.1,3.5,1.4,0.2]is predicted as clusterIris-setosa\n",
      "[4.9,3.0,1.4,0.2]is predicted as clusterIris-setosa\n",
      "[4.7,3.2,1.3,0.2]is predicted as clusterIris-setosa\n",
      "[4.6,3.1,1.5,0.2]is predicted as clusterIris-setosa\n",
      "[5.0,3.6,1.4,0.2]is predicted as clusterIris-setosa\n",
      "[5.4,3.9,1.7,0.4]is predicted as clusterIris-setosa\n",
      "[4.6,3.4,1.4,0.3]is predicted as clusterIris-setosa\n",
      "[5.0,3.4,1.5,0.2]is predicted as clusterIris-setosa\n",
      "[4.4,2.9,1.4,0.2]is predicted as clusterIris-setosa\n",
      "[4.9,3.1,1.5,0.1]is predicted as clusterIris-setosa\n",
      "[5.4,3.7,1.5,0.2]is predicted as clusterIris-setosa\n",
      "[4.8,3.4,1.6,0.2]is predicted as clusterIris-setosa\n",
      "[4.8,3.0,1.4,0.1]is predicted as clusterIris-setosa\n",
      "[4.3,3.0,1.1,0.1]is predicted as clusterIris-setosa\n",
      "[5.8,4.0,1.2,0.2]is predicted as clusterIris-setosa\n",
      "[5.7,4.4,1.5,0.4]is predicted as clusterIris-setosa\n",
      "[5.4,3.9,1.3,0.4]is predicted as clusterIris-setosa\n",
      "[5.1,3.5,1.4,0.3]is predicted as clusterIris-setosa\n",
      "[5.7,3.8,1.7,0.3]is predicted as clusterIris-setosa\n",
      "[5.1,3.8,1.5,0.3]is predicted as clusterIris-setosa\n",
      "[5.4,3.4,1.7,0.2]is predicted as clusterIris-setosa\n",
      "[5.1,3.7,1.5,0.4]is predicted as clusterIris-setosa\n",
      "[4.6,3.6,1.0,0.2]is predicted as clusterIris-setosa\n",
      "[5.1,3.3,1.7,0.5]is predicted as clusterIris-setosa\n",
      "[4.8,3.4,1.9,0.2]is predicted as clusterIris-setosa\n",
      "[5.0,3.0,1.6,0.2]is predicted as clusterIris-setosa\n",
      "[5.0,3.4,1.6,0.4]is predicted as clusterIris-setosa\n",
      "[5.2,3.5,1.5,0.2]is predicted as clusterIris-setosa\n",
      "[5.2,3.4,1.4,0.2]is predicted as clusterIris-setosa\n",
      "[4.7,3.2,1.6,0.2]is predicted as clusterIris-setosa\n",
      "[4.8,3.1,1.6,0.2]is predicted as clusterIris-setosa\n",
      "[5.4,3.4,1.5,0.4]is predicted as clusterIris-setosa\n",
      "[5.2,4.1,1.5,0.1]is predicted as clusterIris-setosa\n",
      "[5.5,4.2,1.4,0.2]is predicted as clusterIris-setosa\n",
      "[4.9,3.1,1.5,0.1]is predicted as clusterIris-setosa\n",
      "[5.0,3.2,1.2,0.2]is predicted as clusterIris-setosa\n",
      "[5.5,3.5,1.3,0.2]is predicted as clusterIris-setosa\n",
      "[4.9,3.1,1.5,0.1]is predicted as clusterIris-setosa\n",
      "[4.4,3.0,1.3,0.2]is predicted as clusterIris-setosa\n",
      "[5.1,3.4,1.5,0.2]is predicted as clusterIris-setosa\n",
      "[5.0,3.5,1.3,0.3]is predicted as clusterIris-setosa\n",
      "[4.5,2.3,1.3,0.3]is predicted as clusterIris-setosa\n",
      "[4.4,3.2,1.3,0.2]is predicted as clusterIris-setosa\n",
      "[5.0,3.5,1.6,0.6]is predicted as clusterIris-setosa\n",
      "[5.1,3.8,1.9,0.4]is predicted as clusterIris-setosa\n",
      "[4.8,3.0,1.4,0.3]is predicted as clusterIris-setosa\n",
      "[5.1,3.8,1.6,0.2]is predicted as clusterIris-setosa\n",
      "[4.6,3.2,1.4,0.2]is predicted as clusterIris-setosa\n",
      "[5.3,3.7,1.5,0.2]is predicted as clusterIris-setosa\n",
      "[5.0,3.3,1.4,0.2]is predicted as clusterIris-setosa\n",
      "[7.0,3.2,4.7,1.4]is predicted as clusterIris-versicolor\n",
      "[6.4,3.2,4.5,1.5]is predicted as clusterIris-versicolor\n",
      "[6.9,3.1,4.9,1.5]is predicted as clusterIris-versicolor\n",
      "[5.5,2.3,4.0,1.3]is predicted as clusterIris-versicolor\n",
      "[6.5,2.8,4.6,1.5]is predicted as clusterIris-versicolor\n",
      "[5.7,2.8,4.5,1.3]is predicted as clusterIris-versicolor\n",
      "[6.3,3.3,4.7,1.6]is predicted as clusterIris-versicolor\n",
      "[4.9,2.4,3.3,1.0]is predicted as clusterIris-versicolor\n",
      "[6.6,2.9,4.6,1.3]is predicted as clusterIris-versicolor\n",
      "[5.2,2.7,3.9,1.4]is predicted as clusterIris-versicolor\n",
      "[5.0,2.0,3.5,1.0]is predicted as clusterIris-versicolor\n",
      "[5.9,3.0,4.2,1.5]is predicted as clusterIris-versicolor\n",
      "[6.0,2.2,4.0,1.0]is predicted as clusterIris-versicolor\n",
      "[6.1,2.9,4.7,1.4]is predicted as clusterIris-versicolor\n",
      "[5.6,2.9,3.6,1.3]is predicted as clusterIris-versicolor\n",
      "[6.7,3.1,4.4,1.4]is predicted as clusterIris-versicolor\n",
      "[5.6,3.0,4.5,1.5]is predicted as clusterIris-versicolor\n",
      "[5.8,2.7,4.1,1.0]is predicted as clusterIris-versicolor\n",
      "[6.2,2.2,4.5,1.5]is predicted as clusterIris-versicolor\n",
      "[5.6,2.5,3.9,1.1]is predicted as clusterIris-versicolor\n",
      "[5.9,3.2,4.8,1.8]is predicted as clusterIris-versicolor\n",
      "[6.1,2.8,4.0,1.3]is predicted as clusterIris-versicolor\n",
      "[6.3,2.5,4.9,1.5]is predicted as clusterIris-versicolor\n",
      "[6.1,2.8,4.7,1.2]is predicted as clusterIris-versicolor\n",
      "[6.4,2.9,4.3,1.3]is predicted as clusterIris-versicolor\n",
      "[6.6,3.0,4.4,1.4]is predicted as clusterIris-versicolor\n",
      "[6.8,2.8,4.8,1.4]is predicted as clusterIris-versicolor\n",
      "[6.7,3.0,5.0,1.7]is predicted as clusterIris-versicolor\n",
      "[6.0,2.9,4.5,1.5]is predicted as clusterIris-versicolor\n",
      "[5.7,2.6,3.5,1.0]is predicted as clusterIris-versicolor\n",
      "[5.5,2.4,3.8,1.1]is predicted as clusterIris-versicolor\n",
      "[5.5,2.4,3.7,1.0]is predicted as clusterIris-versicolor\n",
      "[5.8,2.7,3.9,1.2]is predicted as clusterIris-versicolor\n",
      "[6.0,2.7,5.1,1.6]is predicted as clusterIris-versicolor\n",
      "[5.4,3.0,4.5,1.5]is predicted as clusterIris-versicolor\n",
      "[6.0,3.4,4.5,1.6]is predicted as clusterIris-versicolor\n",
      "[6.7,3.1,4.7,1.5]is predicted as clusterIris-versicolor\n",
      "[6.3,2.3,4.4,1.3]is predicted as clusterIris-versicolor\n",
      "[5.6,3.0,4.1,1.3]is predicted as clusterIris-versicolor\n",
      "[5.5,2.5,4.0,1.3]is predicted as clusterIris-versicolor\n",
      "[5.5,2.6,4.4,1.2]is predicted as clusterIris-versicolor\n",
      "[6.1,3.0,4.6,1.4]is predicted as clusterIris-versicolor\n",
      "[5.8,2.6,4.0,1.2]is predicted as clusterIris-versicolor\n",
      "[5.0,2.3,3.3,1.0]is predicted as clusterIris-versicolor\n",
      "[5.6,2.7,4.2,1.3]is predicted as clusterIris-versicolor\n",
      "[5.7,3.0,4.2,1.2]is predicted as clusterIris-versicolor\n",
      "[5.7,2.9,4.2,1.3]is predicted as clusterIris-versicolor\n",
      "[6.2,2.9,4.3,1.3]is predicted as clusterIris-versicolor\n",
      "[5.1,2.5,3.0,1.1]is predicted as clusterIris-versicolor\n",
      "[5.7,2.8,4.1,1.3]is predicted as clusterIris-versicolor\n",
      "[6.3,3.3,6.0,2.5]is predicted as clusterIris-virginica\n",
      "[5.8,2.7,5.1,1.9]is predicted as clusterIris-virginica\n",
      "[7.1,3.0,5.9,2.1]is predicted as clusterIris-virginica\n",
      "[6.3,2.9,5.6,1.8]is predicted as clusterIris-virginica\n",
      "[6.5,3.0,5.8,2.2]is predicted as clusterIris-virginica\n",
      "[7.6,3.0,6.6,2.1]is predicted as clusterIris-virginica\n",
      "[4.9,2.5,4.5,1.7]is predicted as clusterIris-virginica\n",
      "[7.3,2.9,6.3,1.8]is predicted as clusterIris-virginica\n",
      "[6.7,2.5,5.8,1.8]is predicted as clusterIris-virginica\n",
      "[7.2,3.6,6.1,2.5]is predicted as clusterIris-virginica\n",
      "[6.5,3.2,5.1,2.0]is predicted as clusterIris-virginica\n",
      "[6.4,2.7,5.3,1.9]is predicted as clusterIris-virginica\n",
      "[6.8,3.0,5.5,2.1]is predicted as clusterIris-virginica\n",
      "[5.7,2.5,5.0,2.0]is predicted as clusterIris-virginica\n",
      "[5.8,2.8,5.1,2.4]is predicted as clusterIris-virginica\n",
      "[6.4,3.2,5.3,2.3]is predicted as clusterIris-virginica\n",
      "[6.5,3.0,5.5,1.8]is predicted as clusterIris-virginica\n",
      "[7.7,3.8,6.7,2.2]is predicted as clusterIris-virginica\n",
      "[7.7,2.6,6.9,2.3]is predicted as clusterIris-virginica\n",
      "[6.0,2.2,5.0,1.5]is predicted as clusterIris-virginica\n",
      "[6.9,3.2,5.7,2.3]is predicted as clusterIris-virginica\n",
      "[5.6,2.8,4.9,2.0]is predicted as clusterIris-virginica\n",
      "[7.7,2.8,6.7,2.0]is predicted as clusterIris-virginica\n",
      "[6.3,2.7,4.9,1.8]is predicted as clusterIris-virginica\n",
      "[6.7,3.3,5.7,2.1]is predicted as clusterIris-virginica\n",
      "[7.2,3.2,6.0,1.8]is predicted as clusterIris-virginica\n",
      "[6.2,2.8,4.8,1.8]is predicted as clusterIris-virginica\n",
      "[6.1,3.0,4.9,1.8]is predicted as clusterIris-virginica\n",
      "[6.4,2.8,5.6,2.1]is predicted as clusterIris-virginica\n",
      "[7.2,3.0,5.8,1.6]is predicted as clusterIris-virginica\n",
      "[7.4,2.8,6.1,1.9]is predicted as clusterIris-virginica\n",
      "[7.9,3.8,6.4,2.0]is predicted as clusterIris-virginica\n",
      "[6.4,2.8,5.6,2.2]is predicted as clusterIris-virginica\n",
      "[6.3,2.8,5.1,1.5]is predicted as clusterIris-virginica\n",
      "[6.1,2.6,5.6,1.4]is predicted as clusterIris-virginica\n",
      "[7.7,3.0,6.1,2.3]is predicted as clusterIris-virginica\n",
      "[6.3,3.4,5.6,2.4]is predicted as clusterIris-virginica\n",
      "[6.4,3.1,5.5,1.8]is predicted as clusterIris-virginica\n",
      "[6.0,3.0,4.8,1.8]is predicted as clusterIris-virginica\n",
      "[6.9,3.1,5.4,2.1]is predicted as clusterIris-virginica\n",
      "[6.7,3.1,5.6,2.4]is predicted as clusterIris-virginica\n",
      "[6.9,3.1,5.1,2.3]is predicted as clusterIris-virginica\n",
      "[5.8,2.7,5.1,1.9]is predicted as clusterIris-virginica\n",
      "[6.8,3.2,5.9,2.3]is predicted as clusterIris-virginica\n",
      "[6.7,3.3,5.7,2.5]is predicted as clusterIris-virginica\n",
      "[6.7,3.0,5.2,2.3]is predicted as clusterIris-virginica\n",
      "[6.3,2.5,5.0,1.9]is predicted as clusterIris-virginica\n",
      "[6.5,3.0,5.2,2.0]is predicted as clusterIris-virginica\n",
      "[6.2,3.4,5.4,2.3]is predicted as clusterIris-virginica\n",
      "[5.9,3.0,5.1,1.8]is predicted as clusterIris-virginica\n"
     ]
    }
   ],
   "source": [
    "# 对数据集进行分类\n",
    "results = kmeansmodel.transform(data).collect()\n",
    "for item in results:\n",
    "    print(str(item[0]) + 'is predicted as cluster' + str(item[1]))"
   ]
  },
  {
   "cell_type": "code",
   "execution_count": 59,
   "metadata": {
    "hidden": true
   },
   "outputs": [
    {
     "name": "stdout",
     "output_type": "stream",
     "text": [
      "[5.006 3.418 1.464 0.244]\n",
      "[6.85       3.07368421 5.74210526 2.07105263]\n",
      "[5.9016129  2.7483871  4.39354839 1.43387097]\n"
     ]
    }
   ],
   "source": [
    "# 获取聚类中心情况\n",
    "results2 = kmeansmodel.clusterCenters()\n",
    "for item in results2:\n",
    "    print(item)"
   ]
  },
  {
   "cell_type": "code",
   "execution_count": 60,
   "metadata": {
    "hidden": true
   },
   "outputs": [
    {
     "data": {
      "text/plain": [
       "78.94084142614648"
      ]
     },
     "execution_count": 60,
     "metadata": {},
     "output_type": "execute_result"
    }
   ],
   "source": [
    "# 计算误差平方和,用于在k值未知的情况下选取合适的k值\n",
    "kmeansmodel.computeCost(data)"
   ]
  },
  {
   "cell_type": "markdown",
   "metadata": {
    "heading_collapsed": true,
    "hidden": true
   },
   "source": [
    "### GMM聚类算法"
   ]
  },
  {
   "cell_type": "code",
   "execution_count": 1,
   "metadata": {
    "hidden": true
   },
   "outputs": [],
   "source": [
    "from pyspark.sql import Row\n",
    "from pyspark.ml.clustering import GaussianMixture, GaussianMixtureModel\n",
    "from pyspark.ml.linalg import Vectors"
   ]
  },
  {
   "cell_type": "code",
   "execution_count": 4,
   "metadata": {
    "hidden": true
   },
   "outputs": [
    {
     "name": "stderr",
     "output_type": "stream",
     "text": [
      "/home/han/anaconda3/envs/tf_gpu/lib/python3.6/importlib/_bootstrap.py:219: RuntimeWarning: numpy.ufunc size changed, may indicate binary incompatibility. Expected 192 from C header, got 216 from PyObject\n",
      "  return f(*args, **kwds)\n",
      "/home/han/anaconda3/envs/tf_gpu/lib/python3.6/importlib/_bootstrap.py:219: RuntimeWarning: numpy.ufunc size changed, may indicate binary incompatibility. Expected 192 from C header, got 216 from PyObject\n",
      "  return f(*args, **kwds)\n"
     ]
    },
    {
     "name": "stdout",
     "output_type": "stream",
     "text": [
      "+-----------------+-----------+\n",
      "|         features|      label|\n",
      "+-----------------+-----------+\n",
      "|[5.1,3.5,1.4,0.2]|Iris-setosa|\n",
      "|[4.9,3.0,1.4,0.2]|Iris-setosa|\n",
      "|[4.7,3.2,1.3,0.2]|Iris-setosa|\n",
      "|[4.6,3.1,1.5,0.2]|Iris-setosa|\n",
      "|[5.0,3.6,1.4,0.2]|Iris-setosa|\n",
      "|[5.4,3.9,1.7,0.4]|Iris-setosa|\n",
      "|[4.6,3.4,1.4,0.3]|Iris-setosa|\n",
      "|[5.0,3.4,1.5,0.2]|Iris-setosa|\n",
      "|[4.4,2.9,1.4,0.2]|Iris-setosa|\n",
      "|[4.9,3.1,1.5,0.1]|Iris-setosa|\n",
      "|[5.4,3.7,1.5,0.2]|Iris-setosa|\n",
      "|[4.8,3.4,1.6,0.2]|Iris-setosa|\n",
      "|[4.8,3.0,1.4,0.1]|Iris-setosa|\n",
      "|[4.3,3.0,1.1,0.1]|Iris-setosa|\n",
      "|[5.8,4.0,1.2,0.2]|Iris-setosa|\n",
      "|[5.7,4.4,1.5,0.4]|Iris-setosa|\n",
      "|[5.4,3.9,1.3,0.4]|Iris-setosa|\n",
      "|[5.1,3.5,1.4,0.3]|Iris-setosa|\n",
      "|[5.7,3.8,1.7,0.3]|Iris-setosa|\n",
      "|[5.1,3.8,1.5,0.3]|Iris-setosa|\n",
      "+-----------------+-----------+\n",
      "only showing top 20 rows\n",
      "\n"
     ]
    }
   ],
   "source": [
    "# 生成训练数据 Row(**_dict)--> Row(key1=value1, key2=value2)\n",
    "def f(x):\n",
    "    rel = {}\n",
    "    rel['features'] = Vectors.dense(float(x[0]), float(x[1]), float(x[2]), float(x[3]))\n",
    "    rel['label'] = str(x[4])\n",
    "    return rel\n",
    "\n",
    "data = spark.sparkContext.textFile('./iris.txt').\\\n",
    "    map(lambda line: line.split(',')).\\\n",
    "    map(lambda p: Row(**f(p))).\\\n",
    "    toDF()\n",
    "data.show()"
   ]
  },
  {
   "cell_type": "code",
   "execution_count": 6,
   "metadata": {
    "hidden": true
   },
   "outputs": [],
   "source": [
    "# 设置GMM模型并训练\n",
    "gm = GaussianMixture().\\\n",
    "    setK(3).\\\n",
    "    setPredictionCol('Prediction').\\\n",
    "    setProbabilityCol('Probability')\n",
    "\n",
    "gmm = gm.fit(data)"
   ]
  },
  {
   "cell_type": "code",
   "execution_count": 7,
   "metadata": {
    "hidden": true
   },
   "outputs": [
    {
     "name": "stdout",
     "output_type": "stream",
     "text": [
      "+-----------------+---------------+----------+------------------------------------------------------------------+\n",
      "|features         |label          |Prediction|Probability                                                       |\n",
      "+-----------------+---------------+----------+------------------------------------------------------------------+\n",
      "|[5.1,3.5,1.4,0.2]|Iris-setosa    |1         |[2.1662055460918163E-10,0.9999999997833795,4.7359449038239774E-17]|\n",
      "|[4.9,3.0,1.4,0.2]|Iris-setosa    |1         |[2.5251643454023663E-7,0.9999997474835571,8.332500732642503E-15]  |\n",
      "|[4.7,3.2,1.3,0.2]|Iris-setosa    |1         |[6.644923971160958E-8,0.9999999335507599,3.7580602353814437E-16]  |\n",
      "|[4.6,3.1,1.5,0.2]|Iris-setosa    |1         |[1.2008759966132765E-7,0.9999998799122248,1.7547969280867962E-13] |\n",
      "|[5.0,3.6,1.4,0.2]|Iris-setosa    |1         |[9.169944092775696E-11,0.9999999999083005,5.785507981716511E-17]  |\n",
      "|[5.4,3.9,1.7,0.4]|Iris-setosa    |1         |[2.798870213318928E-10,0.9999999997201127,2.4378271680918725E-16] |\n",
      "|[4.6,3.4,1.4,0.3]|Iris-setosa    |1         |[1.811109560450052E-7,0.9999998188890434,5.146756495673014E-16]   |\n",
      "|[5.0,3.4,1.5,0.2]|Iris-setosa    |1         |[8.69310617417386E-10,0.9999999991306892,1.2301019890400802E-16]  |\n",
      "|[4.4,2.9,1.4,0.2]|Iris-setosa    |1         |[3.360212352747473E-6,0.9999966397866326,1.0146684078823388E-12]  |\n",
      "|[4.9,3.1,1.5,0.1]|Iris-setosa    |1         |[2.873719980725967E-9,0.9999999971262127,6.721501803559317E-14]   |\n",
      "|[5.4,3.7,1.5,0.2]|Iris-setosa    |1         |[4.460325772070144E-12,0.9999999999955396,9.461575016489699E-17]  |\n",
      "|[4.8,3.4,1.6,0.2]|Iris-setosa    |1         |[1.2793292524791758E-9,0.9999999987206659,4.878709254692495E-15]  |\n",
      "|[4.8,3.0,1.4,0.1]|Iris-setosa    |1         |[1.870016659781474E-8,0.9999999812997857,4.7712550631485844E-14]  |\n",
      "|[4.3,3.0,1.1,0.1]|Iris-setosa    |1         |[1.7336203109079852E-6,0.9999982663796706,1.857589637995353E-14]  |\n",
      "|[5.8,4.0,1.2,0.2]|Iris-setosa    |1         |[3.330846947485197E-14,0.9999999999999599,6.904008016993855E-15]  |\n",
      "|[5.7,4.4,1.5,0.4]|Iris-setosa    |1         |[2.7388077982159292E-14,0.9999999999999709,1.6831218600263137E-15]|\n",
      "|[5.4,3.9,1.3,0.4]|Iris-setosa    |1         |[7.686878731541562E-11,0.9999999999231306,6.211669385703283E-16]  |\n",
      "|[5.1,3.5,1.4,0.3]|Iris-setosa    |1         |[3.6522612002673765E-9,0.9999999963477387,5.2160366050363866E-17] |\n",
      "|[5.7,3.8,1.7,0.3]|Iris-setosa    |1         |[1.9712788154846808E-11,0.9999999999802868,5.073178582202808E-16] |\n",
      "|[5.1,3.8,1.5,0.3]|Iris-setosa    |1         |[8.949672162077456E-11,0.999999999910503,8.65642412413889E-17]    |\n",
      "|[5.4,3.4,1.7,0.2]|Iris-setosa    |1         |[7.451237648494944E-10,0.9999999992548737,2.5532973261814273E-15] |\n",
      "|[5.1,3.7,1.5,0.4]|Iris-setosa    |1         |[7.107292596103929E-9,0.9999999928927072,1.4054089875660826E-16]  |\n",
      "|[4.6,3.6,1.0,0.2]|Iris-setosa    |1         |[6.946792507914913E-8,0.9999999305320637,1.1248450845387577E-14]  |\n",
      "|[5.1,3.3,1.7,0.5]|Iris-setosa    |1         |[6.334264802832504E-5,0.9999366573518551,1.165476623776351E-13]   |\n",
      "|[4.8,3.4,1.9,0.2]|Iris-setosa    |1         |[1.7866092150193045E-9,0.9999999981809773,3.241355307911199E-11]  |\n",
      "|[5.0,3.0,1.6,0.2]|Iris-setosa    |1         |[2.450420798857799E-7,0.9999997549572716,6.487230850397909E-13]   |\n",
      "|[5.0,3.4,1.6,0.4]|Iris-setosa    |1         |[5.758597003026672E-7,0.9999994241402986,1.0515569052919417E-15]  |\n",
      "|[5.2,3.5,1.5,0.2]|Iris-setosa    |1         |[1.3095126085564594E-10,0.9999999998690488,5.760383908079137E-17] |\n",
      "|[5.2,3.4,1.4,0.2]|Iris-setosa    |1         |[5.922489952810076E-10,0.9999999994077508,7.222830577889094E-17]  |\n",
      "|[4.7,3.2,1.6,0.2]|Iris-setosa    |1         |[2.18627219605788E-8,0.9999999781370448,2.3317039480462073E-13]   |\n",
      "|[4.8,3.1,1.6,0.2]|Iris-setosa    |1         |[6.913130230838235E-8,0.9999999308682543,4.43384111039404E-13]    |\n",
      "|[5.4,3.4,1.5,0.4]|Iris-setosa    |1         |[6.197208276093169E-8,0.9999999380279168,5.050843149361826E-16]   |\n",
      "|[5.2,4.1,1.5,0.1]|Iris-setosa    |1         |[3.600111176004838E-15,0.9999999999999938,2.5281319439075767E-15] |\n",
      "|[5.5,4.2,1.4,0.2]|Iris-setosa    |1         |[3.951186254317872E-15,0.9999999999999954,6.215111964690585E-16]  |\n",
      "|[4.9,3.1,1.5,0.1]|Iris-setosa    |1         |[2.873719980725967E-9,0.9999999971262127,6.721501803559317E-14]   |\n",
      "|[5.0,3.2,1.2,0.2]|Iris-setosa    |1         |[3.2405918472018526E-8,0.9999999675940813,2.0447758790776653E-16] |\n",
      "|[5.5,3.5,1.3,0.2]|Iris-setosa    |1         |[7.407404441660509E-11,0.9999999999259253,6.55412654632124E-16]   |\n",
      "|[4.9,3.1,1.5,0.1]|Iris-setosa    |1         |[2.873719980725967E-9,0.9999999971262127,6.721501803559317E-14]   |\n",
      "|[4.4,3.0,1.3,0.2]|Iris-setosa    |1         |[2.2167698256968127E-6,0.9999977832301179,5.652795157333881E-14]  |\n",
      "|[5.1,3.4,1.5,0.2]|Iris-setosa    |1         |[6.718353541723084E-10,0.9999999993281646,8.854993351267874E-17]  |\n",
      "|[5.0,3.5,1.3,0.3]|Iris-setosa    |1         |[7.82813571267392E-9,0.9999999921718641,8.742026949544806E-17]    |\n",
      "|[4.5,2.3,1.3,0.3]|Iris-setosa    |1         |[0.030550218878083287,0.9694497811181683,3.7484581992386216E-12]  |\n",
      "|[4.4,3.2,1.3,0.2]|Iris-setosa    |1         |[3.069792245131064E-7,0.9999996930207681,7.311328813745565E-15]   |\n",
      "|[5.0,3.5,1.6,0.6]|Iris-setosa    |1         |[1.0142376157723435E-4,0.9998985762384015,2.122168797518662E-14]  |\n",
      "|[5.1,3.8,1.9,0.4]|Iris-setosa    |1         |[1.6780291607129045E-8,0.9999999832197044,3.894024992830808E-15]  |\n",
      "|[4.8,3.0,1.4,0.3]|Iris-setosa    |1         |[4.8748605549819394E-6,0.9999951251394346,1.0460219034970845E-14] |\n",
      "|[5.1,3.8,1.6,0.2]|Iris-setosa    |1         |[2.4516387774546774E-12,0.9999999999975483,1.6450174759534892E-16]|\n",
      "|[4.6,3.2,1.4,0.2]|Iris-setosa    |1         |[5.7053571514791826E-8,0.9999999429464229,5.578889352758154E-15]  |\n",
      "|[5.3,3.7,1.5,0.2]|Iris-setosa    |1         |[5.9270323840038684E-12,0.9999999999940729,7.012417741929664E-17] |\n",
      "|[5.0,3.3,1.4,0.2]|Iris-setosa    |1         |[4.029952695371412E-9,0.9999999959700471,9.341888617432074E-17]   |\n",
      "|[7.0,3.2,4.7,1.4]|Iris-versicolor|0         |[0.9459202527745919,3.384445810166787E-15,0.05407974722540476]    |\n",
      "|[6.4,3.2,4.5,1.5]|Iris-versicolor|0         |[0.7763742463496305,6.867230129630572E-16,0.2236257536503688]     |\n",
      "|[6.9,3.1,4.9,1.5]|Iris-versicolor|0         |[0.903886585357544,6.513318824618784E-16,0.09611341464245544]     |\n",
      "|[5.5,2.3,4.0,1.3]|Iris-versicolor|0         |[0.9544809592822485,8.526985226563202E-16,0.04551904071775078]    |\n",
      "|[6.5,2.8,4.6,1.5]|Iris-versicolor|0         |[0.7837275323097966,4.792363549978361E-16,0.2162724676902029]     |\n",
      "|[5.7,2.8,4.5,1.3]|Iris-versicolor|2         |[0.11608633235709993,5.784461079183617E-16,0.8839136676428995]    |\n",
      "|[6.3,3.3,4.7,1.6]|Iris-versicolor|2         |[0.49836081798260895,1.0268790841285617E-15,0.50163918201739]     |\n",
      "|[4.9,2.4,3.3,1.0]|Iris-versicolor|0         |[0.9786106654362117,1.7302340671178953E-15,0.02138933456378663]   |\n",
      "|[6.6,2.9,4.6,1.3]|Iris-versicolor|0         |[0.8508216180721282,8.155787059327276E-16,0.14917838192787097]    |\n",
      "|[5.2,2.7,3.9,1.4]|Iris-versicolor|2         |[0.2315266655693485,2.813777834330975E-15,0.7684733344306486]     |\n",
      "|[5.0,2.0,3.5,1.0]|Iris-versicolor|0         |[0.9979993857406063,2.7371192748000702E-15,0.0020006142593908625] |\n",
      "|[5.9,3.0,4.2,1.5]|Iris-versicolor|2         |[0.37568742602722627,9.372589021022098E-16,0.6243125739727727]    |\n",
      "|[6.0,2.2,4.0,1.0]|Iris-versicolor|0         |[0.9766286223908612,9.705322446051248E-15,0.023371377609129104]   |\n",
      "|[6.1,2.9,4.7,1.4]|Iris-versicolor|2         |[0.42890352029878226,3.0319334709184854E-16,0.5710964797012176]   |\n",
      "|[5.6,2.9,3.6,1.3]|Iris-versicolor|0         |[0.9181994948764542,2.8120586565631117E-15,0.08180050512354299]   |\n",
      "|[6.7,3.1,4.4,1.4]|Iris-versicolor|0         |[0.9210688779575208,1.8928568834558043E-15,0.07893112204247735]   |\n",
      "|[5.6,3.0,4.5,1.5]|Iris-versicolor|2         |[0.05631502677550449,7.22620393688498E-16,0.9436849732244947]     |\n",
      "|[5.8,2.7,4.1,1.0]|Iris-versicolor|2         |[0.1044240222644804,2.6102353525911024E-15,0.895575977735517]     |\n",
      "|[6.2,2.2,4.5,1.5]|Iris-versicolor|0         |[0.9645088865630465,1.0185389236500577E-14,0.03549111343694338]   |\n",
      "|[5.6,2.5,3.9,1.1]|Iris-versicolor|0         |[0.882649996350039,5.564316451444438E-16,0.1173500036499605]      |\n",
      "|[5.9,3.2,4.8,1.8]|Iris-versicolor|2         |[0.003147532687753363,8.074905892061323E-16,0.9968524673122457]   |\n",
      "|[6.1,2.8,4.0,1.3]|Iris-versicolor|0         |[0.9308944633237374,5.94353624195745E-16,0.0691055366762621]      |\n",
      "|[6.3,2.5,4.9,1.5]|Iris-versicolor|0         |[0.8824588469166985,3.3790632859727206E-16,0.11754115308330121]   |\n",
      "|[6.1,2.8,4.7,1.2]|Iris-versicolor|2         |[0.06545788843476703,1.7742967644983997E-15,0.9345421115652313]   |\n",
      "|[6.4,2.9,4.3,1.3]|Iris-versicolor|0         |[0.9090224900891093,5.120318390712415E-16,0.09097750991089021]    |\n",
      "|[6.6,3.0,4.4,1.4]|Iris-versicolor|0         |[0.8988944250541717,1.0147110522530148E-15,0.10110557494582725]   |\n",
      "|[6.8,2.8,4.8,1.4]|Iris-versicolor|0         |[0.9113582690989873,8.610153247359944E-16,0.08864173090101181]    |\n",
      "|[6.7,3.0,5.0,1.7]|Iris-versicolor|2         |[0.4415875789053887,4.525582587709485E-16,0.558412421094611]      |\n",
      "|[6.0,2.9,4.5,1.5]|Iris-versicolor|2         |[0.414620470138373,2.4755565691354105E-16,0.5853795298616267]     |\n",
      "|[5.7,2.6,3.5,1.0]|Iris-versicolor|0         |[0.9878872622743651,8.469277399368537E-16,0.012112737725634154]   |\n",
      "|[5.5,2.4,3.8,1.1]|Iris-versicolor|0         |[0.9567362134840462,5.1005600249384075E-16,0.04326378651595327]   |\n",
      "|[5.5,2.4,3.7,1.0]|Iris-versicolor|0         |[0.9444928896840642,1.009392396029231E-15,0.05550711031593479]    |\n",
      "|[5.8,2.7,3.9,1.2]|Iris-versicolor|0         |[0.9298196672044781,3.1115582277190677E-16,0.07018033279552158]   |\n",
      "|[6.0,2.7,5.1,1.6]|Iris-versicolor|2         |[0.22289262451688546,5.357275372797563E-16,0.7771073754831139]    |\n",
      "|[5.4,3.0,4.5,1.5]|Iris-versicolor|2         |[0.012514753661236102,1.6543119372854997E-15,0.9874852463387622]  |\n",
      "|[6.0,3.4,4.5,1.6]|Iris-versicolor|2         |[0.2765018253250589,5.9450487115882035E-15,0.7234981746749352]    |\n",
      "|[6.7,3.1,4.7,1.5]|Iris-versicolor|0         |[0.8546600501748506,5.429904001239126E-16,0.14533994982514892]    |\n",
      "|[6.3,2.3,4.4,1.3]|Iris-versicolor|0         |[0.9859443273736249,1.7406630039363696E-15,0.014055672626373373]  |\n",
      "|[5.6,3.0,4.1,1.3]|Iris-versicolor|2         |[0.43713936901693506,9.844418439074607E-16,0.562860630983064]     |\n",
      "|[5.5,2.5,4.0,1.3]|Iris-versicolor|0         |[0.8406909544559962,5.205575581454146E-16,0.15930904554400332]    |\n",
      "|[5.5,2.6,4.4,1.2]|Iris-versicolor|2         |[0.05468898486745847,1.2106853791659768E-15,0.9453110151325403]   |\n",
      "|[6.1,3.0,4.6,1.4]|Iris-versicolor|2         |[0.49569806998916144,3.330610911583884E-16,0.5043019300108382]    |\n",
      "|[5.8,2.6,4.0,1.2]|Iris-versicolor|0         |[0.9164416293691104,2.9040000358011007E-16,0.08355837063088924]   |\n",
      "|[5.0,2.3,3.3,1.0]|Iris-versicolor|0         |[0.9945684150511853,1.0228801336479921E-15,0.005431584948813711]  |\n",
      "|[5.6,2.7,4.2,1.3]|Iris-versicolor|0         |[0.5022804725506134,3.8514236367193295E-16,0.4977195274493862]    |\n",
      "|[5.7,3.0,4.2,1.2]|Iris-versicolor|2         |[0.22423741209522277,1.4497492285457123E-15,0.7757625879047757]   |\n",
      "|[5.7,2.9,4.2,1.3]|Iris-versicolor|2         |[0.4683721771288966,4.717804237905863E-16,0.5316278228711029]     |\n",
      "|[6.2,2.9,4.3,1.3]|Iris-versicolor|0         |[0.8468406397661457,2.9972493013741037E-16,0.15315936023385399]   |\n",
      "|[5.1,2.5,3.0,1.1]|Iris-versicolor|0         |[0.9987559576116924,5.5486880960082015E-15,0.001244042388301981]  |\n",
      "|[5.7,2.8,4.1,1.3]|Iris-versicolor|0         |[0.6846963569305713,3.385510779849688E-16,0.31530364306942843]    |\n",
      "|[6.3,3.3,6.0,2.5]|Iris-virginica |2         |[3.275631003739736E-10,7.51111063627852E-15,0.9999999996724295]   |\n",
      "|[5.8,2.7,5.1,1.9]|Iris-virginica |2         |[7.010686305304015E-4,6.981203979421669E-16,0.999298931369469]    |\n",
      "|[7.1,3.0,5.9,2.1]|Iris-virginica |2         |[0.061257923476946106,1.6443520647285687E-15,0.9387420765230522]  |\n",
      "|[6.3,2.9,5.6,1.8]|Iris-virginica |2         |[0.18082966980788534,1.4119390161523075E-15,0.8191703301921133]   |\n",
      "|[6.5,3.0,5.8,2.2]|Iris-virginica |2         |[9.617819641458494E-5,6.486927988384655E-16,0.9999038218035847]   |\n",
      "|[7.6,3.0,6.6,2.1]|Iris-virginica |0         |[0.9974665567253692,1.8570271306379087E-15,0.0025334432746289613] |\n",
      "|[4.9,2.5,4.5,1.7]|Iris-virginica |2         |[1.9995389188540372E-4,2.6903949973086372E-14,0.9998000461080878] |\n",
      "|[7.3,2.9,6.3,1.8]|Iris-virginica |0         |[0.996085584309431,3.5002276560733598E-15,0.0039144156905654695]  |\n",
      "|[6.7,2.5,5.8,1.8]|Iris-virginica |0         |[0.9645810319287413,1.640334889147107E-15,0.035418968071256884]   |\n",
      "|[7.2,3.6,6.1,2.5]|Iris-virginica |2         |[1.429877580649056E-7,7.901740050609582E-15,0.999999857012234]    |\n",
      "|[6.5,3.2,5.1,2.0]|Iris-virginica |2         |[2.5040551451474395E-4,4.4066580205674304E-16,0.9997495944854847] |\n",
      "|[6.4,2.7,5.3,1.9]|Iris-virginica |2         |[0.028552777140376545,5.989459367586619E-16,0.9714472228596229]   |\n",
      "|[6.8,3.0,5.5,2.1]|Iris-virginica |2         |[3.2839960088948856E-4,4.456515256792614E-16,0.99967160039911]    |\n",
      "|[5.7,2.5,5.0,2.0]|Iris-virginica |2         |[1.476876141162283E-5,4.783160518429962E-15,0.9999852312385835]   |\n",
      "|[5.8,2.8,5.1,2.4]|Iris-virginica |2         |[1.5596535652840728E-14,1.2506953290343725E-14,0.9999999999999719]|\n",
      "|[6.4,3.2,5.3,2.3]|Iris-virginica |2         |[6.454732268042346E-10,6.838818761021117E-16,0.9999999993545261]  |\n",
      "|[6.5,3.0,5.5,1.8]|Iris-virginica |2         |[0.32328883936220376,4.896761165158032E-16,0.6767111606377958]    |\n",
      "|[7.7,3.8,6.7,2.2]|Iris-virginica |0         |[0.9995944393431929,3.1192858523232734E-14,4.055606567759053E-4]  |\n",
      "|[7.7,2.6,6.9,2.3]|Iris-virginica |0         |[0.9975866118214859,1.8885487204265814E-13,0.0024133881783252866] |\n",
      "|[6.0,2.2,5.0,1.5]|Iris-virginica |0         |[0.9551638132058621,2.28355064966323E-15,0.044836186794135736]    |\n",
      "|[6.9,3.2,5.7,2.3]|Iris-virginica |2         |[7.291479383073539E-7,5.574229278281472E-16,0.9999992708520612]   |\n",
      "|[5.6,2.8,4.9,2.0]|Iris-virginica |2         |[1.5031012439818783E-6,1.2216431076739424E-15,0.9999984968987549] |\n",
      "|[7.7,2.8,6.7,2.0]|Iris-virginica |0         |[0.9998735874027368,3.602639860232782E-15,1.264125972595217E-4]   |\n",
      "|[6.3,2.7,4.9,1.8]|Iris-virginica |2         |[0.022991719950553387,6.619624185378891E-16,0.977008280049446]    |\n",
      "|[6.7,3.3,5.7,2.1]|Iris-virginica |2         |[0.0049001872721355965,9.474568837428425E-16,0.9950998127278634]  |\n",
      "|[7.2,3.2,6.0,1.8]|Iris-virginica |0         |[0.9789375729808667,1.109715961638822E-15,0.021062427019132184]   |\n",
      "|[6.2,2.8,4.8,1.8]|Iris-virginica |2         |[0.008333470549347617,4.239628559822582E-16,0.9916665294506519]   |\n",
      "|[6.1,3.0,4.9,1.8]|Iris-virginica |2         |[0.00951875513693459,2.402566601973551E-16,0.9904812448630651]    |\n",
      "|[6.4,2.8,5.6,2.1]|Iris-virginica |2         |[4.5313904513490116E-4,6.323743654672794E-16,0.9995468609548644]  |\n",
      "|[7.2,3.0,5.8,1.6]|Iris-virginica |0         |[0.9626556261009784,3.623316821548148E-15,0.03734437389901798]    |\n",
      "|[7.4,2.8,6.1,1.9]|Iris-virginica |0         |[0.9906880156177089,1.1752469697923344E-15,0.00931198438228993]   |\n",
      "|[7.9,3.8,6.4,2.0]|Iris-virginica |0         |[0.9999118773028333,1.0654362695636748E-14,8.812269715614605E-5]  |\n",
      "|[6.4,2.8,5.6,2.2]|Iris-virginica |2         |[6.418932348215387E-6,7.181064489514135E-16,0.9999935810676511]   |\n",
      "|[6.3,2.8,5.1,1.5]|Iris-virginica |0         |[0.5122691924213036,4.2187171144486795E-16,0.48773080757869597]   |\n",
      "|[6.1,2.6,5.6,1.4]|Iris-virginica |2         |[0.00612792899245398,3.3908151162411254E-13,0.9938720710072069]   |\n",
      "|[7.7,3.0,6.1,2.3]|Iris-virginica |2         |[2.185884106674636E-4,3.807714086792587E-14,0.9997814115892943]   |\n",
      "|[6.3,3.4,5.6,2.4]|Iris-virginica |2         |[3.7686451809566774E-10,2.9365187176227453E-15,0.9999999996231325]|\n",
      "|[6.4,3.1,5.5,1.8]|Iris-virginica |2         |[0.19240970486768083,8.813183037575947E-16,0.8075902951323183]    |\n",
      "|[6.0,3.0,4.8,1.8]|Iris-virginica |2         |[0.004143530857663065,2.864366984880572E-16,0.9958564691423367]   |\n",
      "|[6.9,3.1,5.4,2.1]|Iris-virginica |2         |[1.1927896523576606E-4,6.36177877153416E-16,0.9998807210347637]   |\n",
      "|[6.7,3.1,5.6,2.4]|Iris-virginica |2         |[1.7707880299575712E-10,6.336478573547035E-16,0.9999999998229206] |\n",
      "|[6.9,3.1,5.1,2.3]|Iris-virginica |2         |[4.864618283779043E-12,1.1295669057017854E-14,0.9999999999951241] |\n",
      "|[5.8,2.7,5.1,1.9]|Iris-virginica |2         |[7.010686305304015E-4,6.981203979421669E-16,0.999298931369469]    |\n",
      "|[6.8,3.2,5.9,2.3]|Iris-virginica |2         |[1.4313195135056674E-5,6.93864602321336E-16,0.9999856868048643]   |\n",
      "|[6.7,3.3,5.7,2.5]|Iris-virginica |2         |[3.861663351290183E-12,1.047314267771643E-15,0.9999999999961372]  |\n",
      "|[6.7,3.0,5.2,2.3]|Iris-virginica |2         |[3.8221291039191294E-11,2.44509433585557E-15,0.9999999999617764]  |\n",
      "|[6.3,2.5,5.0,1.9]|Iris-virginica |2         |[0.003356714029594073,4.487438887765293E-15,0.9966432859704015]   |\n",
      "|[6.5,3.0,5.2,2.0]|Iris-virginica |2         |[4.119926929427013E-4,2.770262277874216E-16,0.999588007307057]    |\n",
      "|[6.2,3.4,5.4,2.3]|Iris-virginica |2         |[4.896436978434704E-9,2.7484835923391408E-15,0.9999999951035603]  |\n",
      "|[5.9,3.0,5.1,1.8]|Iris-virginica |2         |[0.006031934009592091,4.577881759132224E-16,0.9939680659904074]   |\n",
      "+-----------------+---------------+----------+------------------------------------------------------------------+\n",
      "\n"
     ]
    }
   ],
   "source": [
    "# 显示结果\n",
    "result = gmm.transform(data)\n",
    "result.show(150, False)"
   ]
  },
  {
   "cell_type": "code",
   "execution_count": 8,
   "metadata": {
    "hidden": true
   },
   "outputs": [
    {
     "name": "stdout",
     "output_type": "stream",
     "text": [
      "Component 0: weight is 0.2987938418262388\n",
      " mu vector is Row(mean=DenseVector([6.3094, 2.7701, 4.6914, 1.45]))\n",
      " sigma matrix is Row(cov=DenseMatrix(4, 4, [0.6315, 0.1951, 0.749, 0.2337, 0.1951, 0.1466, 0.2002, 0.0723, 0.749, 0.2002, 1.0382, 0.3262, 0.2337, 0.0723, 0.3262, 0.1125], False))\n",
      "Component 1: weight is 0.3331247798263555\n",
      " mu vector is Row(mean=DenseVector([6.3094, 2.7701, 4.6914, 1.45]))\n",
      " sigma matrix is Row(cov=DenseMatrix(4, 4, [0.6315, 0.1951, 0.749, 0.2337, 0.1951, 0.1466, 0.2002, 0.0723, 0.749, 0.2002, 1.0382, 0.3262, 0.2337, 0.0723, 0.3262, 0.1125], False))\n",
      "Component 2: weight is 0.36808137834740573\n",
      " mu vector is Row(mean=DenseVector([6.3094, 2.7701, 4.6914, 1.45]))\n",
      " sigma matrix is Row(cov=DenseMatrix(4, 4, [0.6315, 0.1951, 0.749, 0.2337, 0.1951, 0.1466, 0.2002, 0.0723, 0.749, 0.2002, 1.0382, 0.3262, 0.2337, 0.0723, 0.3262, 0.1125], False))\n"
     ]
    }
   ],
   "source": [
    "# 查看模型参数\n",
    "for i in range(3):\n",
    "    print('Component ' + str(i) + ': weight is ' +\n",
    "          str(gmm.weights[i]) +\n",
    "          '\\n mu vector is ' + str(gmm.gaussiansDF.select('mean').head()) +\n",
    "          '\\n sigma matrix is ' + str(gmm.gaussiansDF.select('cov').head()))"
   ]
  },
  {
   "cell_type": "markdown",
   "metadata": {
    "heading_collapsed": true
   },
   "source": [
    "## 协同过滤算法"
   ]
  },
  {
   "cell_type": "code",
   "execution_count": 9,
   "metadata": {
    "hidden": true
   },
   "outputs": [],
   "source": [
    "from pyspark.ml.evaluation import RegressionEvaluator\n",
    "from pyspark.ml.recommendation import ALS\n",
    "from pyspark.sql import Row"
   ]
  },
  {
   "cell_type": "code",
   "execution_count": 10,
   "metadata": {
    "hidden": true
   },
   "outputs": [
    {
     "name": "stdout",
     "output_type": "stream",
     "text": [
      "+-------+------+-------------+------+\n",
      "|movieId|rating|    timestamp|userId|\n",
      "+-------+------+-------------+------+\n",
      "|      2|   3.0|1.424380312E9|     0|\n",
      "|      3|   1.0|1.424380312E9|     0|\n",
      "|      5|   2.0|1.424380312E9|     0|\n",
      "|      9|   4.0|1.424380312E9|     0|\n",
      "|     11|   1.0|1.424380312E9|     0|\n",
      "|     12|   2.0|1.424380312E9|     0|\n",
      "|     15|   1.0|1.424380312E9|     0|\n",
      "|     17|   1.0|1.424380312E9|     0|\n",
      "|     19|   1.0|1.424380312E9|     0|\n",
      "|     21|   1.0|1.424380312E9|     0|\n",
      "|     23|   1.0|1.424380312E9|     0|\n",
      "|     26|   3.0|1.424380312E9|     0|\n",
      "|     27|   1.0|1.424380312E9|     0|\n",
      "|     28|   1.0|1.424380312E9|     0|\n",
      "|     29|   1.0|1.424380312E9|     0|\n",
      "|     30|   1.0|1.424380312E9|     0|\n",
      "|     31|   1.0|1.424380312E9|     0|\n",
      "|     34|   1.0|1.424380312E9|     0|\n",
      "|     37|   1.0|1.424380312E9|     0|\n",
      "|     41|   2.0|1.424380312E9|     0|\n",
      "+-------+------+-------------+------+\n",
      "only showing top 20 rows\n",
      "\n"
     ]
    }
   ],
   "source": [
    "# 加载数据集\n",
    "def f(x):\n",
    "    rel = {}\n",
    "    rel['userId'] = int(x[0])\n",
    "    rel['movieId'] = int(x[1])    \n",
    "    rel['rating'] = float(x[2])    \n",
    "    rel['timestamp'] = float(x[3])    \n",
    "    return rel\n",
    "\n",
    "# 数据集在本地的spark安装路径下\n",
    "ratings = spark.sparkContext.textFile(\n",
    "    '/home/han/anaconda3/envs/tf_gpu/lib/python3.6/site-packages/pyspark/data/mllib/als/sample_movielens_ratings.txt').\\\n",
    "    map(lambda line: line.split('::')).\\\n",
    "    map(lambda p: Row(**f(p))).\\\n",
    "    toDF()\n",
    "ratings.show()"
   ]
  },
  {
   "cell_type": "code",
   "execution_count": 11,
   "metadata": {
    "hidden": true
   },
   "outputs": [],
   "source": [
    "# 划分训练集和测试集\n",
    "training, test = ratings.randomSplit([0.8, 0.2])"
   ]
  },
  {
   "cell_type": "code",
   "execution_count": 12,
   "metadata": {
    "hidden": true
   },
   "outputs": [],
   "source": [
    "# 建立模型\n",
    "# 显式反馈模型\n",
    "alsExplicit = ALS(\n",
    "    maxIter=5,\n",
    "    regParam=0.01,\n",
    "    userCol='userId',\n",
    "    itemCol='movieId',\n",
    "    ratingCol='rating'\n",
    ")\n",
    "\n",
    "# 隐式反馈模型\n",
    "alsImplicit = ALS(\n",
    "    maxIter=5,\n",
    "    regParam=0.01,\n",
    "    implicitPrefs=True,\n",
    "    userCol='userId',\n",
    "    itemCol='movieId',\n",
    "    ratingCol='rating'\n",
    ")\n",
    "\n",
    "modelExplicit = alsExplicit.fit(training)\n",
    "modelImplicit = alsImplicit.fit(training)"
   ]
  },
  {
   "cell_type": "code",
   "execution_count": 13,
   "metadata": {
    "hidden": true
   },
   "outputs": [],
   "source": [
    "# 预测\n",
    "predictionsExplicit = modelExplicit.transform(test)\n",
    "predictionsImplicit = modelImplicit.transform(test)"
   ]
  },
  {
   "cell_type": "code",
   "execution_count": 14,
   "metadata": {
    "hidden": true
   },
   "outputs": [
    {
     "name": "stdout",
     "output_type": "stream",
     "text": [
      "+-------+------+-------------+------+-----------+\n",
      "|movieId|rating|    timestamp|userId| prediction|\n",
      "+-------+------+-------------+------+-----------+\n",
      "|     31|   1.0|1.424380312E9|     4|  3.1903892|\n",
      "|     85|   1.0|1.424380312E9|    26|  4.3194046|\n",
      "|     85|   1.0|1.424380312E9|    15| 0.69555026|\n",
      "|     65|   1.0|1.424380312E9|    22|  3.0551052|\n",
      "|     65|   1.0|1.424380312E9|     4|  2.6742456|\n",
      "|     65|   1.0|1.424380312E9|     2|  1.1017152|\n",
      "|     53|   1.0|1.424380312E9|     6|  0.6251482|\n",
      "|     53|   1.0|1.424380312E9|     9|   2.661983|\n",
      "|     78|   1.0|1.424380312E9|    12|  1.2614328|\n",
      "|     78|   1.0|1.424380312E9|     1|  0.7776576|\n",
      "|     78|   1.0|1.424380312E9|    20|  0.7097116|\n",
      "|     78|   1.0|1.424380312E9|     4|  1.0626099|\n",
      "|     34|   3.0|1.424380312E9|     3|0.081189215|\n",
      "|     34|   1.0|1.424380312E9|    14|-0.61158454|\n",
      "|     34|   1.0|1.424380312E9|     0|  1.7525736|\n",
      "|     81|   1.0|1.424380312E9|     1|-0.48799655|\n",
      "|     81|   1.0|1.424380312E9|     3| -0.1875489|\n",
      "|     81|   1.0|1.424380312E9|     7|  1.6165521|\n",
      "|     81|   4.0|1.424380312E9|    11|  1.6790587|\n",
      "|     28|   1.0|1.424380312E9|    10|  0.6630751|\n",
      "+-------+------+-------------+------+-----------+\n",
      "only showing top 20 rows\n",
      "\n"
     ]
    }
   ],
   "source": [
    "predictionsExplicit.show()"
   ]
  },
  {
   "cell_type": "code",
   "execution_count": 15,
   "metadata": {
    "hidden": true
   },
   "outputs": [
    {
     "name": "stdout",
     "output_type": "stream",
     "text": [
      "+-------+------+-------------+------+------------+\n",
      "|movieId|rating|    timestamp|userId|  prediction|\n",
      "+-------+------+-------------+------+------------+\n",
      "|     31|   1.0|1.424380312E9|     4|  0.21014398|\n",
      "|     85|   1.0|1.424380312E9|    26|   0.7609868|\n",
      "|     85|   1.0|1.424380312E9|    15|  0.77318525|\n",
      "|     65|   1.0|1.424380312E9|    22|  0.26165724|\n",
      "|     65|   1.0|1.424380312E9|     4|-0.043676764|\n",
      "|     65|   1.0|1.424380312E9|     2|  0.29029816|\n",
      "|     53|   1.0|1.424380312E9|     6|  0.39747244|\n",
      "|     53|   1.0|1.424380312E9|     9|  0.96344197|\n",
      "|     78|   1.0|1.424380312E9|    12|-0.048233084|\n",
      "|     78|   1.0|1.424380312E9|     1|   0.4879288|\n",
      "|     78|   1.0|1.424380312E9|    20| -0.14242148|\n",
      "|     78|   1.0|1.424380312E9|     4|  0.24850486|\n",
      "|     34|   3.0|1.424380312E9|     3|   0.7659233|\n",
      "|     34|   1.0|1.424380312E9|    14|  0.17797646|\n",
      "|     34|   1.0|1.424380312E9|     0|  0.17385362|\n",
      "|     81|   1.0|1.424380312E9|     1|  0.30977052|\n",
      "|     81|   1.0|1.424380312E9|     3|  0.25939062|\n",
      "|     81|   1.0|1.424380312E9|     7|  0.75175947|\n",
      "|     81|   4.0|1.424380312E9|    11|  0.26438522|\n",
      "|     28|   1.0|1.424380312E9|    10|   0.5093711|\n",
      "+-------+------+-------------+------+------------+\n",
      "only showing top 20 rows\n",
      "\n"
     ]
    }
   ],
   "source": [
    "predictionsImplicit.show()"
   ]
  },
  {
   "cell_type": "code",
   "execution_count": 16,
   "metadata": {
    "hidden": true
   },
   "outputs": [
    {
     "name": "stdout",
     "output_type": "stream",
     "text": [
      "Explicit rmse = 1.6870168798320093\n",
      "Implicit rmse = 1.826792017062488\n"
     ]
    }
   ],
   "source": [
    "# 模型评估\n",
    "evaluator = RegressionEvaluator().\\\n",
    "    setMetricName('rmse').\\\n",
    "    setLabelCol('rating').\\\n",
    "    setPredictionCol('prediction')\n",
    "\n",
    "rmseExplicit = evaluator.evaluate(predictionsExplicit)\n",
    "rmseImplicit = evaluator.evaluate(predictionsImplicit)\n",
    "print('Explicit rmse = '+str(rmseExplicit))\n",
    "print('Implicit rmse = '+str(rmseImplicit))"
   ]
  },
  {
   "cell_type": "markdown",
   "metadata": {},
   "source": [
    "## 模型的选择和超参数调整"
   ]
  },
  {
   "cell_type": "markdown",
   "metadata": {},
   "source": [
    "### 用交叉验证选择模型"
   ]
  },
  {
   "cell_type": "code",
   "execution_count": 17,
   "metadata": {},
   "outputs": [],
   "source": [
    "from pyspark.ml.linalg import Vectors\n",
    "from pyspark.ml.feature import HashingTF, Tokenizer\n",
    "from pyspark.ml.tuning import CrossValidator, ParamGridBuilder\n",
    "from pyspark.sql import Row\n",
    "from pyspark.ml.evaluation import MulticlassClassificationEvaluator\n",
    "from pyspark.ml.feature import IndexToString, StringIndexer, VectorIndexer\n",
    "from pyspark.ml.classification import LogisticRegression, LogisticRegressionModel\n",
    "from pyspark.ml import Pipeline, PipelineModel"
   ]
  },
  {
   "cell_type": "code",
   "execution_count": 18,
   "metadata": {},
   "outputs": [
    {
     "name": "stdout",
     "output_type": "stream",
     "text": [
      "+-----------------+-----------+\n",
      "|         features|      label|\n",
      "+-----------------+-----------+\n",
      "|[5.1,3.5,1.4,0.2]|Iris-setosa|\n",
      "|[4.9,3.0,1.4,0.2]|Iris-setosa|\n",
      "|[4.7,3.2,1.3,0.2]|Iris-setosa|\n",
      "|[4.6,3.1,1.5,0.2]|Iris-setosa|\n",
      "|[5.0,3.6,1.4,0.2]|Iris-setosa|\n",
      "|[5.4,3.9,1.7,0.4]|Iris-setosa|\n",
      "|[4.6,3.4,1.4,0.3]|Iris-setosa|\n",
      "|[5.0,3.4,1.5,0.2]|Iris-setosa|\n",
      "|[4.4,2.9,1.4,0.2]|Iris-setosa|\n",
      "|[4.9,3.1,1.5,0.1]|Iris-setosa|\n",
      "|[5.4,3.7,1.5,0.2]|Iris-setosa|\n",
      "|[4.8,3.4,1.6,0.2]|Iris-setosa|\n",
      "|[4.8,3.0,1.4,0.1]|Iris-setosa|\n",
      "|[4.3,3.0,1.1,0.1]|Iris-setosa|\n",
      "|[5.8,4.0,1.2,0.2]|Iris-setosa|\n",
      "|[5.7,4.4,1.5,0.4]|Iris-setosa|\n",
      "|[5.4,3.9,1.3,0.4]|Iris-setosa|\n",
      "|[5.1,3.5,1.4,0.3]|Iris-setosa|\n",
      "|[5.7,3.8,1.7,0.3]|Iris-setosa|\n",
      "|[5.1,3.8,1.5,0.3]|Iris-setosa|\n",
      "+-----------------+-----------+\n",
      "only showing top 20 rows\n",
      "\n"
     ]
    }
   ],
   "source": [
    "# 生成训练数据 Row(**_dict)--> Row(key1=value1, key2=value2)\n",
    "def f(x):\n",
    "    rel = {}\n",
    "    rel['features'] = Vectors.dense(float(x[0]), float(x[1]), float(x[2]), float(x[3]))\n",
    "    rel['label'] = str(x[4])\n",
    "    return rel\n",
    "\n",
    "data = spark.sparkContext.textFile('./iris.txt').\\\n",
    "    map(lambda line: line.split(',')).\\\n",
    "    map(lambda p: Row(**f(p))).\\\n",
    "    toDF()\n",
    "data.show()"
   ]
  },
  {
   "cell_type": "code",
   "execution_count": 19,
   "metadata": {},
   "outputs": [],
   "source": [
    "# 对标签和特征增加索引\n",
    "labelIndexer = StringIndexer().\\\n",
    "    setInputCol('label').\\\n",
    "    setOutputCol('indexedLabel').\\\n",
    "    fit(data)\n",
    "\n",
    "featureIndexer = VectorIndexer().\\\n",
    "    setInputCol('features').\\\n",
    "    setOutputCol('indexedFeatures').\\\n",
    "    fit(data)"
   ]
  },
  {
   "cell_type": "code",
   "execution_count": 20,
   "metadata": {},
   "outputs": [],
   "source": [
    "# 设置IndexToString\n",
    "labelConverter = IndexToString().\\\n",
    "    setInputCol('prediction').\\\n",
    "    setOutputCol('predictedLabel').\\\n",
    "    setLabels(labelIndexer.labels)"
   ]
  },
  {
   "cell_type": "code",
   "execution_count": 21,
   "metadata": {},
   "outputs": [],
   "source": [
    "# 设置LogisticRegression\n",
    "lr = LogisticRegression().\\\n",
    "    setLabelCol('indexedLabel').\\\n",
    "    setFeaturesCol('indexedFeatures').\\\n",
    "    setMaxIter(50)"
   ]
  },
  {
   "cell_type": "code",
   "execution_count": 22,
   "metadata": {},
   "outputs": [],
   "source": [
    "# 划分训练集和测试集进行模型训练\n",
    "trainingData, testData = data.randomSplit([0.7, 0.3])"
   ]
  },
  {
   "cell_type": "code",
   "execution_count": 23,
   "metadata": {},
   "outputs": [],
   "source": [
    "# 构建pipeline\n",
    "lrPipeline = Pipeline().\\\n",
    "    setStages([labelIndexer, featureIndexer, lr, labelConverter])"
   ]
  },
  {
   "cell_type": "code",
   "execution_count": 26,
   "metadata": {},
   "outputs": [],
   "source": [
    "# 构造参数网格，有2x3=6组参数需要比较\n",
    "paramGrid = ParamGridBuilder().\\\n",
    "    addGrid(lr.elasticNetParam, [0.2, 0.8]).\\\n",
    "    addGrid(lr.regParam, [0.01, 0.1, 0.5]).\\\n",
    "    build()"
   ]
  },
  {
   "cell_type": "code",
   "execution_count": 27,
   "metadata": {},
   "outputs": [],
   "source": [
    "# 参数调优\n",
    "cv = CrossValidator().\\\n",
    "    setEstimator(lrPipeline).\\\n",
    "    setEvaluator(MulticlassClassificationEvaluator().\\\n",
    "                 setLabelCol('indexedLabel').\\\n",
    "                 setPredictionCol('prediction')).\\\n",
    "    setEstimatorParamMaps(paramGrid).\\\n",
    "    setNumFolds(3)\n",
    "\n",
    "cvModel = cv.fit(trainingData)"
   ]
  },
  {
   "cell_type": "code",
   "execution_count": 31,
   "metadata": {},
   "outputs": [
    {
     "name": "stdout",
     "output_type": "stream",
     "text": [
      "label:  Iris-setosa,\n",
      "features:  [4.6,3.6,1.0,0.2],\n",
      "prob:  [0.9954583762433672,0.0045415432428754,8.051375755628208e-08],\n",
      "predict_label: Iris-setosa\n",
      "label:  Iris-setosa,\n",
      "features:  [4.8,3.0,1.4,0.1],\n",
      "prob:  [0.9309087509679442,0.069089217484027,2.031548028742769e-06],\n",
      "predict_label: Iris-setosa\n",
      "label:  Iris-setosa,\n",
      "features:  [4.8,3.4,1.6,0.2],\n",
      "prob:  [0.9785314221319695,0.021467882069990934,6.957980394645878e-07],\n",
      "predict_label: Iris-setosa\n",
      "label:  Iris-setosa,\n",
      "features:  [4.9,3.1,1.5,0.1],\n",
      "prob:  [0.9399680565488973,0.06003043449937446,1.5089517284082975e-06],\n",
      "predict_label: Iris-setosa\n",
      "label:  Iris-setosa,\n",
      "features:  [5.0,3.5,1.6,0.6],\n",
      "prob:  [0.9734031079387624,0.026591028992904834,5.86306833271749e-06],\n",
      "predict_label: Iris-setosa\n",
      "label:  Iris-setosa,\n",
      "features:  [5.1,3.5,1.4,0.2],\n",
      "prob:  [0.981970680288089,0.018028980871067937,3.3884084306926503e-07],\n",
      "predict_label: Iris-setosa\n",
      "label:  Iris-setosa,\n",
      "features:  [5.1,3.7,1.5,0.4],\n",
      "prob:  [0.988803233246776,0.011196256901489367,5.098517345601584e-07],\n",
      "predict_label: Iris-setosa\n",
      "label:  Iris-setosa,\n",
      "features:  [5.1,3.8,1.5,0.3],\n",
      "prob:  [0.992881742345011,0.007118098398022903,1.592569662629e-07],\n",
      "predict_label: Iris-setosa\n",
      "label:  Iris-setosa,\n",
      "features:  [5.3,3.7,1.5,0.2],\n",
      "prob:  [0.9877840714538929,0.012215773073350145,1.554727569507343e-07],\n",
      "predict_label: Iris-setosa\n",
      "label:  Iris-versicolor,\n",
      "features:  [5.5,2.3,4.0,1.3],\n",
      "prob:  [0.009669148285199835,0.7700325054237661,0.2202983462910341],\n",
      "predict_label: Iris-versicolor\n",
      "label:  Iris-versicolor,\n",
      "features:  [5.5,2.4,3.8,1.1],\n",
      "prob:  [0.023802658895055083,0.9130859119476193,0.06311142915732565],\n",
      "predict_label: Iris-versicolor\n",
      "label:  Iris-versicolor,\n",
      "features:  [5.6,2.5,3.9,1.1],\n",
      "prob:  [0.02780860549805781,0.9179533499338344,0.054238044568107706],\n",
      "predict_label: Iris-versicolor\n",
      "label:  Iris-versicolor,\n",
      "features:  [5.6,2.7,4.2,1.3],\n",
      "prob:  [0.033665468326719995,0.8282562896138674,0.13807824205941252],\n",
      "predict_label: Iris-versicolor\n",
      "label:  Iris-virginica,\n",
      "features:  [5.8,2.8,5.1,2.4],\n",
      "prob:  [6.872638103597867e-05,0.008889507931776213,0.9910417656871878],\n",
      "predict_label: Iris-virginica\n",
      "label:  Iris-versicolor,\n",
      "features:  [5.9,3.0,4.2,1.5],\n",
      "prob:  [0.054091560739659865,0.7550615027635377,0.19084693649680237],\n",
      "predict_label: Iris-versicolor\n",
      "label:  Iris-versicolor,\n",
      "features:  [6.0,2.2,4.0,1.0],\n",
      "prob:  [0.005595654814012483,0.9543286499078554,0.04007569527813213],\n",
      "predict_label: Iris-versicolor\n",
      "label:  Iris-virginica,\n",
      "features:  [6.0,2.2,5.0,1.5],\n",
      "prob:  [0.000606958159391719,0.4061594583150885,0.5932335835255198],\n",
      "predict_label: Iris-virginica\n",
      "label:  Iris-versicolor,\n",
      "features:  [6.0,2.9,4.5,1.5],\n",
      "prob:  [0.02376890293376857,0.7275770485553343,0.2486540485108971],\n",
      "predict_label: Iris-versicolor\n",
      "label:  Iris-virginica,\n",
      "features:  [6.0,3.0,4.8,1.8],\n",
      "prob:  [0.009280548726528174,0.33440957637767693,0.656309874895795],\n",
      "predict_label: Iris-virginica\n",
      "label:  Iris-versicolor,\n",
      "features:  [6.0,3.4,4.5,1.6],\n",
      "prob:  [0.1317987480240951,0.6795748808711968,0.18862637110470826],\n",
      "predict_label: Iris-versicolor\n",
      "label:  Iris-virginica,\n",
      "features:  [6.1,2.6,5.6,1.4],\n",
      "prob:  [0.002164321325295179,0.6007942013287382,0.3970414773459667],\n",
      "predict_label: Iris-versicolor\n",
      "label:  Iris-versicolor,\n",
      "features:  [6.1,2.8,4.7,1.2],\n",
      "prob:  [0.019130824596611615,0.9078770223656091,0.07299215303777935],\n",
      "predict_label: Iris-versicolor\n",
      "label:  Iris-versicolor,\n",
      "features:  [6.1,3.0,4.6,1.4],\n",
      "prob:  [0.034165620848596465,0.8274173237713717,0.13841705538003202],\n",
      "predict_label: Iris-versicolor\n",
      "label:  Iris-versicolor,\n",
      "features:  [6.2,2.9,4.3,1.3],\n",
      "prob:  [0.032327599503901516,0.8943158118547716,0.07335658864132694],\n",
      "predict_label: Iris-versicolor\n",
      "label:  Iris-versicolor,\n",
      "features:  [6.3,2.3,4.4,1.3],\n",
      "prob:  [0.0025542068881777126,0.8278960544012721,0.16954973871055015],\n",
      "predict_label: Iris-versicolor\n",
      "label:  Iris-virginica,\n",
      "features:  [6.3,2.9,5.6,1.8],\n",
      "prob:  [0.001413525778861832,0.23169799305992306,0.7668884811612151],\n",
      "predict_label: Iris-virginica\n",
      "label:  Iris-virginica,\n",
      "features:  [6.3,3.3,6.0,2.5],\n",
      "prob:  [8.488055891788044e-05,0.008228584769160207,0.9916865346719218],\n",
      "predict_label: Iris-virginica\n",
      "label:  Iris-virginica,\n",
      "features:  [6.5,3.0,5.2,2.0],\n",
      "prob:  [0.0013117847964454993,0.15496471207362933,0.8437235031299252],\n",
      "predict_label: Iris-virginica\n",
      "label:  Iris-virginica,\n",
      "features:  [6.5,3.0,5.8,2.2],\n",
      "prob:  [0.00014891853425982562,0.036731921211325146,0.9631191602544151],\n",
      "predict_label: Iris-virginica\n",
      "label:  Iris-virginica,\n",
      "features:  [6.7,2.5,5.8,1.8],\n",
      "prob:  [0.00011026960891688311,0.16214393740258612,0.837745792988497],\n",
      "predict_label: Iris-virginica\n",
      "label:  Iris-virginica,\n",
      "features:  [6.8,3.0,5.5,2.1],\n",
      "prob:  [0.0003832956493547351,0.09609034721029666,0.9035263571403487],\n",
      "predict_label: Iris-virginica\n",
      "label:  Iris-virginica,\n",
      "features:  [6.9,3.1,5.4,2.1],\n",
      "prob:  [0.0007083784419922803,0.12644977981672328,0.8728418417412844],\n",
      "predict_label: Iris-virginica\n",
      "label:  Iris-versicolor,\n",
      "features:  [7.0,3.2,4.7,1.4],\n",
      "prob:  [0.02294432124037771,0.9176164577888546,0.05943922097076766],\n",
      "predict_label: Iris-versicolor\n",
      "label:  Iris-virginica,\n",
      "features:  [7.3,2.9,6.3,1.8],\n",
      "prob:  [0.0002467680466580688,0.282588479905921,0.7171647520474209],\n",
      "predict_label: Iris-virginica\n",
      "label:  Iris-virginica,\n",
      "features:  [7.4,2.8,6.1,1.9],\n",
      "prob:  [0.00011535199089989092,0.19623503595582148,0.8036496120532786],\n",
      "predict_label: Iris-virginica\n",
      "label:  Iris-virginica,\n",
      "features:  [7.6,3.0,6.6,2.1],\n",
      "prob:  [4.0506606492606775e-05,0.08019363595212661,0.9197658574413807],\n",
      "predict_label: Iris-virginica\n",
      "label:  Iris-virginica,\n",
      "features:  [7.7,2.6,6.9,2.3],\n",
      "prob:  [8.380780866807021e-07,0.013179997227594324,0.9868191646943191],\n",
      "predict_label: Iris-virginica\n",
      "label:  Iris-virginica,\n",
      "features:  [7.7,3.0,6.1,2.3],\n",
      "prob:  [2.614119244486576e-05,0.043344688769663575,0.9566291700378916],\n",
      "predict_label: Iris-virginica\n",
      "label:  Iris-virginica,\n",
      "features:  [7.9,3.8,6.4,2.0],\n",
      "prob:  [0.0038647358355524217,0.4323696887341286,0.5637655754303189],\n",
      "predict_label: Iris-virginica\n"
     ]
    }
   ],
   "source": [
    "# 预测\n",
    "lrPredictions = cvModel.transform(testData)\n",
    "lrPreRel = lrPredictions.select(\n",
    "    'predictedLabel',\n",
    "    'label',\n",
    "    'features',\n",
    "    'probability'\n",
    ").collect()\n",
    "\n",
    "for item in lrPreRel:\n",
    "    print('label: ',str(item['label'])+',\\n'\\\n",
    "          'features: ', str(item['features'])+',\\n'\\\n",
    "          'prob: ', str(item['probability'])+',\\n'\\\n",
    "          'predict_label: '+ str(item['predictedLabel']))"
   ]
  },
  {
   "cell_type": "code",
   "execution_count": 32,
   "metadata": {},
   "outputs": [],
   "source": [
    "# 评估模型\n",
    "evaluator = MulticlassClassificationEvaluator().\\\n",
    "    setLabelCol('indexedLabel').\\\n",
    "    setPredictionCol('prediction')\n",
    "lrAccuracy = evaluator.evaluate(lrPredictions)"
   ]
  },
  {
   "cell_type": "code",
   "execution_count": 34,
   "metadata": {},
   "outputs": [
    {
     "data": {
      "text/plain": [
       "0.9744453077786412"
      ]
     },
     "execution_count": 34,
     "metadata": {},
     "output_type": "execute_result"
    }
   ],
   "source": [
    "lrAccuracy"
   ]
  },
  {
   "cell_type": "code",
   "execution_count": 33,
   "metadata": {},
   "outputs": [
    {
     "name": "stdout",
     "output_type": "stream",
     "text": [
      "Coefficients:\n",
      "DenseMatrix([[-0.46342948,  3.00561608, -0.90450738, -1.85716816],\n",
      "             [ 0.81767757, -0.72472657,  0.04241188, -1.01695964],\n",
      "             [ 0.01913498, -2.25589978,  0.80376882,  4.55848737]])\n",
      "Intercept: [0.5229296151281995,1.5541732908300576,-2.077102905958257]\n",
      " numClasses: 3\n",
      " numFeatures: 4\n"
     ]
    }
   ],
   "source": [
    "# 获取最优模型\n",
    "bestModel = cvModel.bestModel\n",
    "lrModel = bestModel.stages[2]\n",
    "\n",
    "print('Coefficients:\\n' + str(lrModel.coefficientMatrix)+\n",
    "     \"\\nIntercept: \" + str(lrModel.interceptVector)+\n",
    "     \"\\n numClasses: \" + str(lrModel.numClasses)+\n",
    "     \"\\n numFeatures: \" + str(lrModel.numFeatures))"
   ]
  },
  {
   "cell_type": "code",
   "execution_count": null,
   "metadata": {},
   "outputs": [],
   "source": []
  }
 ],
 "metadata": {
  "hide_input": false,
  "kernelspec": {
   "display_name": "tf_gpu",
   "language": "python",
   "name": "tf_gpu"
  },
  "language_info": {
   "codemirror_mode": {
    "name": "ipython",
    "version": 3
   },
   "file_extension": ".py",
   "mimetype": "text/x-python",
   "name": "python",
   "nbconvert_exporter": "python",
   "pygments_lexer": "ipython3",
   "version": "3.6.8"
  },
  "toc": {
   "base_numbering": 1,
   "nav_menu": {},
   "number_sections": true,
   "sideBar": true,
   "skip_h1_title": false,
   "title_cell": "Table of Contents",
   "title_sidebar": "Contents",
   "toc_cell": false,
   "toc_position": {},
   "toc_section_display": true,
   "toc_window_display": false
  }
 },
 "nbformat": 4,
 "nbformat_minor": 2
}
